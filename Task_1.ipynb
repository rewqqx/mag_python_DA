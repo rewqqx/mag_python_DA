{
 "cells": [
  {
   "cell_type": "markdown",
   "metadata": {},
   "source": [
    "# Задание 1\n",
    "\n",
    "(**NB.** для запуска примеров кода нужен Python версии не ниже **3.10**, допускается использование других версий, в этом случае нужно самостоятельно избавиться от конструкции `match`).\n",
    "\n",
    "Есть следующий код для [автоматического дифференцирования](https://en.wikipedia.org/wiki/Automatic_differentiation), в котором используются особенности системы типов языка `Python`: "
   ]
  },
  {
   "cell_type": "code",
   "execution_count": 272,
   "metadata": {},
   "outputs": [],
   "source": [
    "from dataclasses import dataclass\n",
    "from typing import Union, Callable\n",
    "from numbers import Number\n",
    "\n",
    "@dataclass\n",
    "class Dual:\n",
    "    value: float\n",
    "    d: float\n",
    "\n",
    "    def __add__(self, other: Union[\"Dual\", Number]) -> \"Dual\":\n",
    "         match other:\n",
    "            case Dual(o_value, o_d):\n",
    "                return Dual(self.value + o_value, self.d + o_d)\n",
    "            case Number():\n",
    "                return Dual(float(other) + self.value, self.d)\n",
    "\n",
    "    def __mul__(self, other: Union[\"Dual\", Number]) -> \"Dual\":\n",
    "         match other:\n",
    "            case Dual(o_value, o_d):\n",
    "                return Dual(self.value * o_value, self.value * o_d + self.d * o_value)\n",
    "            case Number():\n",
    "                return Dual(float(other) * self.value, float(other) * self.d)    \n",
    "\n",
    "    __rmul__ = __mul__  # https://docs.python.org/3/reference/datamodel.html#object.__mul__\n",
    "    __radd__ = __add__  # https://docs.python.org/3/reference/datamodel.html#object.__radd__\n",
    " \n",
    "\n",
    "def diff(func: Callable[[float], float]) -> Callable[[float], float]:\n",
    "    return lambda x: func(Dual(x, 1.0)).d \n"
   ]
  },
  {
   "cell_type": "markdown",
   "metadata": {},
   "source": [
    "Поддерживаются две операции - сложение и умножение. Применить можно так:"
   ]
  },
  {
   "cell_type": "code",
   "execution_count": 273,
   "metadata": {},
   "outputs": [
    {
     "data": {
      "text/plain": [
       "22.0"
      ]
     },
     "execution_count": 273,
     "metadata": {},
     "output_type": "execute_result"
    }
   ],
   "source": [
    "# Функция, которую будем дифференцировать\n",
    "def f(x: float) -> float:\n",
    "    return 5 * x * x + 2 * x + 2\n",
    "\n",
    "f_diff = diff(f)\n",
    "\n",
    "# значение производной в точке x = 2\n",
    "f_diff(2)\n"
   ]
  },
  {
   "cell_type": "markdown",
   "metadata": {},
   "source": [
    "## Задание 1.1 (5 баллов)\n",
    "\n",
    "Какие недостатки вы видите в данной реализации? Реализуйте поддержку (полностью самостоятельно или модифицируя приведенный код):\n",
    "- [унарных операций](https://docs.python.org/3/reference/datamodel.html#object.__neg__) \n",
    "- деления\n",
    "- возведения в степень\n",
    "\n",
    "Каким образом можно проверить корректность решения?  Реализуйте достаточный, по вашему мнению, набор тестов."
   ]
  },
  {
   "cell_type": "code",
   "execution_count": 274,
   "metadata": {},
   "outputs": [],
   "source": [
    "# ваш код\n",
    "from math import log\n",
    "from dataclasses import dataclass\n",
    "from typing import Union, Callable\n",
    "from numbers import Number\n",
    "\n",
    "\n",
    "@dataclass\n",
    "class Dual:\n",
    "    value: float\n",
    "    d: float\n",
    "\n",
    "    def __add__(self, other: Union[\"Dual\", Number]) -> \"Dual\":\n",
    "        match other:\n",
    "            case Dual(o_value, o_d):\n",
    "                return Dual(self.value + o_value, self.d + o_d)\n",
    "            case Number():\n",
    "                return Dual(float(other) + self.value, self.d)\n",
    "\n",
    "    def __mul__(self, other: Union[\"Dual\", Number]) -> \"Dual\":\n",
    "        match other:\n",
    "            case Dual(o_value, o_d):\n",
    "                return Dual(self.value * o_value, self.value * o_d + self.d * o_value)\n",
    "            case Number():\n",
    "                return Dual(float(other) * self.value, float(other) * self.d)\n",
    "\n",
    "    def __neg__(self) -> \"Dual\":\n",
    "        return Dual(-self.value, -self.d)\n",
    "\n",
    "    def __pos__(self) -> \"Dual\":\n",
    "        return Dual(self.value, self.d)\n",
    "\n",
    "    def __abs__(self) -> \"Dual\":\n",
    "        return Dual(abs(self.value), abs(self.d))\n",
    "\n",
    "    def __invert__(self) -> \"Dual\":\n",
    "        return Dual(~self.value, self.d)\n",
    "\n",
    "    def __sub__(self, other: Union[\"Dual\", Number]) -> \"Dual\":\n",
    "        match other:\n",
    "            case Dual(o_value, o_d):\n",
    "                return Dual(self.value - o_value, self.d - o_d)\n",
    "            case Number():\n",
    "                return Dual(self.value - float(other), self.d)\n",
    "\n",
    "    def __rsub__(self, other: Union[\"Dual\", Number]) -> \"Dual\":\n",
    "        match other:\n",
    "            case Dual(o_value, o_d):\n",
    "                return Dual(o_value - self.value, o_d - self.d)\n",
    "            case Number():\n",
    "                return Dual(float(other) - self.value, self.d)\n",
    "\n",
    "    def __truediv__(self, other: Union[\"Dual\", Number]) -> \"Dual\":\n",
    "        match other:\n",
    "            case Dual(o_value, o_d):\n",
    "                return Dual(self.value / o_value, (self.d * o_value - self.value * o_d)/(o_value*o_value))\n",
    "            case Number():\n",
    "                return Dual(self.value/float(other), self.d / float(other) )\n",
    "\n",
    "    def __rtruediv__(self, other: Union[\"Dual\", Number]) -> \"Dual\":\n",
    "        match other:\n",
    "            case Dual(o_value, o_d):\n",
    "                return Dual(o_value / self.value, (o_d * self.value - o_value * self.d)/(self.value*self.value))\n",
    "            case Number():\n",
    "                return Dual(float(other) / self.value, float(other) * (-self.d)/(self.value*self.value))\n",
    "\n",
    "    def __pow__(self, other: Union[\"Dual\", Number]) -> \"Dual\":\n",
    "        match other:\n",
    "            case Dual(o_value, o_d):\n",
    "                return Dual(self.value ** o_value, o_value * (self.value ** (o_value - 1)) * self.d + (self.value ** o_value) * o_d * log(self.value))\n",
    "            case Number():\n",
    "                return Dual(self.value ** float(other), float(other) * (self.d * self.value ** (float(other) - 1)))\n",
    "\n",
    "    __rmul__ = __mul__  # https://docs.python.org/3/reference/datamodel.html#object.__mul__\n",
    "    __radd__ = __add__  # https://docs.python.org/3/reference/datamodel.html#object.__radd__"
   ]
  },
  {
   "cell_type": "code",
   "execution_count": 275,
   "metadata": {},
   "outputs": [],
   "source": [
    "from random import randint, random, uniform\n",
    "\n",
    "def test_sum_neg():\n",
    "    for tmp_v, tmp_d in test_pair():\n",
    "        sum_v = Dual(tmp_v, tmp_d) + (-Dual(tmp_d, tmp_v))\n",
    "        exp_v = Dual(tmp_v - tmp_d, tmp_d - tmp_v)\n",
    "        if sum_v.value != exp_v.value or sum_v.d != exp_v.d:\n",
    "            print(False)\n",
    "\n",
    "def test_mul_div():\n",
    "    for tmp_v, tmp_d in test_pair():\n",
    "        if tmp_v == 0 or tmp_d == 0:\n",
    "            continue\n",
    "        mul_v = Dual(tmp_v, tmp_d) * Dual(tmp_d, tmp_v)\n",
    "        div_v = Dual(tmp_v, tmp_d) / (Dual(1.0, 0.0) / Dual(tmp_d, tmp_v))\n",
    "        if abs(mul_v.value - div_v.value) > 1e-8 or abs(mul_v.d - div_v.d) > 1e-8:\n",
    "            print(False)\n",
    "\n",
    "def test_mul_pow():\n",
    "    for tmp_v, tmp_d in test_pair():\n",
    "        n = randint(1, 5)\n",
    "\n",
    "        mul_v = Dual(tmp_v, tmp_d)\n",
    "        for i in range(n-1):\n",
    "            mul_v = mul_v * Dual(tmp_v, tmp_d)\n",
    "        \n",
    "        pow_v = Dual(tmp_v, tmp_d) ** n\n",
    "        if abs(mul_v.value - pow_v.value) > 1e-8 or abs(mul_v.d - pow_v.d) > 1e-8:\n",
    "            print(False)\n",
    "        \n",
    "\n",
    "def test_pair():\n",
    "    return tuple([((random() + 0.5) * 3.0, (random() + 0.5) * 3.0) for _ in range(15)])"
   ]
  },
  {
   "cell_type": "code",
   "execution_count": 276,
   "metadata": {},
   "outputs": [],
   "source": [
    "test_sum_neg()\n",
    "test_mul_div()\n",
    "test_mul_pow()"
   ]
  },
  {
   "cell_type": "markdown",
   "metadata": {},
   "source": [
    "## Задание 1.2 (7 баллов)\n",
    "Придумайте способ и реализуйте поддержку функций:\n",
    "- `exp()`\n",
    "- `cos()`\n",
    "- `sin()`\n",
    "- `log()`\n",
    "\n",
    "Добавьте соответствующие тесты"
   ]
  },
  {
   "cell_type": "code",
   "execution_count": 277,
   "metadata": {},
   "outputs": [],
   "source": [
    "# ваш код\n",
    "import math\n",
    "\n",
    "def exp(f : Union[\"Dual\", Number]):\n",
    "    match f:\n",
    "        case Dual(f_value, f_d):\n",
    "            return Dual(math.exp(f_value), f_d*math.exp(f_value))\n",
    "        case Number():\n",
    "            return math.exp(f)\n",
    "\n",
    "def cos(f : Union[\"Dual\", Number]):\n",
    "    match f:\n",
    "        case Dual(f_value, f_d):\n",
    "            return Dual(math.cos(f_value), -f_d*math.sin(f_value))\n",
    "        case Number():\n",
    "            return math.cos(f)\n",
    "\n",
    "def sin(f : Union[\"Dual\", Number]):\n",
    "    match f:\n",
    "        case Dual(f_value, f_d):\n",
    "            return Dual(math.sin(f_value), f_d*math.cos(f_value))\n",
    "        case Number():\n",
    "            return math.sin(f)\n",
    "\n",
    "def log(f : Union[\"Dual\", Number]):\n",
    "    match f:\n",
    "        case Dual(f_value, f_d):\n",
    "            if f_value <= 0:\n",
    "                raise ValueError(\"f_value <= 0!\")\n",
    "            return Dual(math.log(f_value), f_d/f_value)\n",
    "        case Number():\n",
    "            if f <= 0:\n",
    "                raise ValueError(\"f <= 0!\")\n",
    "            return math.log(f)\n",
    "\n",
    "def test_exp_log():\n",
    "    for tmp_v, tmp_d in test_pair():\n",
    "        test_v = Dual(tmp_v, tmp_d)\n",
    "\n",
    "        if abs((log(exp(test_v)) - test_v).value) > 1e-8 or abs((log(exp(test_v)) - test_v).d) > 1e-8:\n",
    "            print(False)\n",
    "\n",
    "def test_sin_cos():\n",
    "    for tmp_v, tmp_d in test_pair():\n",
    "        test_v = Dual(tmp_v, tmp_d)\n",
    "        if abs((cos(test_v)**2 + sin(test_v)**2).value) - 1 > 1e-8 or abs((cos(test_v)**2 + sin(test_v)**2).d) > 1e-8:\n",
    "            print(False)\n",
    "\n",
    "test_exp_log()\n",
    "test_sin_cos()"
   ]
  },
  {
   "cell_type": "markdown",
   "metadata": {},
   "source": [
    "## Задание 1.3 (3 балла)\n",
    "\n",
    "Воспользуйтесь методами **численного** дифференцирования для \"проверки\" работы кода на нескольких примерах. Например,  библиотеке `scipy` есть функция `derivative`. Или реализуйте какой-нибудь метод численного дифференцирования самостоятельно (**+5 баллов**)"
   ]
  },
  {
   "cell_type": "code",
   "execution_count": 278,
   "metadata": {},
   "outputs": [
    {
     "name": "stdout",
     "output_type": "stream",
     "text": [
      "22.0\n",
      "22.0\n"
     ]
    }
   ],
   "source": [
    "from scipy.misc import derivative\n",
    "\n",
    "def f(x: float) -> float:\n",
    "    return 5 * x * x + 2 * x + 2\n",
    "\n",
    "print(derivative(f, 2.))\n",
    "f_diff = diff(f)\n",
    "print(f_diff(2))"
   ]
  },
  {
   "cell_type": "code",
   "execution_count": 279,
   "metadata": {},
   "outputs": [],
   "source": [
    "# ваш код\n",
    "from numpy import isclose\n",
    "def f_1(x: float) -> float:\n",
    "    return 5 * x * x + 2 * x + 2\n",
    "\n",
    "def f_2(x: float) -> float:\n",
    "    return 5 / x * x - 2*x + cos(x)/log(x)\n",
    "\n",
    "def f_3(x: float) -> float:\n",
    "    return 15 / (x**2) + 3 * x + 15\n",
    "\n",
    "def f_4(x: float) -> float:\n",
    "    return 1/cos(x) - 15 * sin(15 * x)\n",
    "\n",
    "def f_5(x: float) -> float:\n",
    "    return sin(x) - log(x)\n",
    "\n",
    "def f_6(x: float) -> float:\n",
    "    return exp(15*x) - cos(4 * x + 5) + x ** (15 * x)\n",
    "\n",
    "def f_7(x: float) -> float:\n",
    "    return 2 * log(x ** 7) + cos( exp ( x))\n",
    "\n",
    "\n",
    "for i in range(10):\n",
    "    x = uniform(-10, 10)\n",
    "    f_diff = diff(f_1)\n",
    "    if not isclose(f_diff(x), derivative(f_1, x, dx=1e-8)):\n",
    "        print(False)\n",
    "    f_diff = diff(f_2)\n",
    "    if not isclose(f_diff(abs(x)), derivative(f_2, abs(x), dx=1e-8)):\n",
    "        print(False)\n",
    "    f_diff = diff(f_3)\n",
    "    if not isclose(f_diff(x), derivative(f_3, x, dx=1e-8)):\n",
    "        print(False)\n",
    "    f_diff = diff(f_4)\n",
    "    if not isclose(f_diff(x), derivative(f_4, x, dx=1e-8)):\n",
    "        print(False)\n",
    "    f_diff = diff(f_5)\n",
    "    if not isclose(f_diff(abs(x)), derivative(f_5, abs(x), dx=1e-8)):\n",
    "        print(False)\n",
    "    f_diff = diff(f_6)\n",
    "    if not isclose(f_diff(abs(x)), derivative(f_6, abs(x), dx=1e-8)):\n",
    "        print(False)\n",
    "    f_diff = diff(f_7)\n",
    "    if not isclose(f_diff(abs(x)), derivative(f_7, abs(x), dx=1e-8)):\n",
    "        print(False)\n"
   ]
  },
  {
   "cell_type": "markdown",
   "metadata": {},
   "source": [
    "## Задание 1.4 (10 баллов)\n",
    "\n",
    "Необходимо разработать систему автоматического тестирования алгоритма дифференцирования в следующем виде:\n",
    "- реализовать механизм генерации \"случайных функций\" (например, что-то вроде такого: $f(x) = x + 5 * x - \\cos(20 * \\log(12 - 20 * x * x )) - 20 * x$ )\n",
    "- сгенерировать достаточно большое число функций и сравнить результаты символьного и численного дифференцирования в случайных точках "
   ]
  },
  {
   "cell_type": "markdown",
   "metadata": {},
   "source": [
    "Генерацию случайных функций можно осуществить, например, двумя путями. \n",
    "1. Генерировать функцию в текстовом виде, зачем использовать встроенную функцию [eval](https://docs.python.org/3/library/functions.html#eval)\n",
    "\n",
    "```python\n",
    "func = eval(\"lambda x: 2 * x + 5\")\n",
    "assert func(42) == 89 \n",
    "```\n",
    "\n",
    "2. Использовать стандартный модуль [ast](https://docs.python.org/3/library/ast.html), который позволяет во время выполнения программы манипулировать [Абстрактным Синтаксическим Деревом](https://ru.wikipedia.org/wiki/%D0%90%D0%B1%D1%81%D1%82%D1%80%D0%B0%D0%BA%D1%82%D0%BD%D0%BE%D0%B5_%D1%81%D0%B8%D0%BD%D1%82%D0%B0%D0%BA%D1%81%D0%B8%D1%87%D0%B5%D1%81%D0%BA%D0%BE%D0%B5_%D0%B4%D0%B5%D1%80%D0%B5%D0%B2%D0%BE).\n",
    "Например, выражение \n",
    "\n",
    "```python\n",
    "func = lambda x: 2 * x + 5\n",
    "```\n",
    "\n",
    "Можно запрограммировать с помощью кода:\n",
    "\n",
    "```python\n",
    "\n",
    "expr = ast.Expression(\n",
    "    body=ast.Lambda(\n",
    "        args=ast.arguments(\n",
    "            args=[\n",
    "                ast.arg(arg='x')\n",
    "            ],\n",
    "            posonlyargs=[],\n",
    "            kwonlyargs=[],\n",
    "            kw_defaults=[],\n",
    "            defaults=[]\n",
    "        ),\n",
    "        body=ast.BinOp(\n",
    "            left=ast.BinOp(\n",
    "                left=ast.Constant(value=2),\n",
    "                op=ast.Mult(),\n",
    "                right=ast.Name(id='x', ctx=ast.Load())\n",
    "            ),\n",
    "            op=ast.Add(),\n",
    "            right=ast.Constant(value=5)\n",
    "        )\n",
    "    )\n",
    ")\n",
    "\n",
    "ast.fix_missing_locations(expr)\n",
    "\n",
    "func = eval(compile(expr, filename=\"\", mode=\"eval\"))\n",
    "\n",
    "assert func(42) == 89\n",
    "```\n",
    "\n",
    "При реализации нужно учитывать области допустимых значений функций."
   ]
  },
  {
   "cell_type": "code",
   "execution_count": null,
   "metadata": {},
   "outputs": [],
   "source": [
    "# ваш код"
   ]
  },
  {
   "cell_type": "markdown",
   "metadata": {},
   "source": [
    "## Задание 1.5 (7 баллов)\n",
    "\n",
    "Реализуйте поддержку функций нескольких аргументов. Например\n",
    "\n",
    "```python\n",
    "def f(x: float, y: float, z: float) -> float:\n",
    "    return x * y + z - 5 * y  \n",
    "\n",
    "\n",
    "f_diff = diff(f)\n",
    "\n",
    "f_diff(10, 10, 10) # = [10, 5, 1]\n",
    "```"
   ]
  },
  {
   "cell_type": "code",
   "execution_count": 280,
   "metadata": {},
   "outputs": [],
   "source": [
    "# ваш код\n",
    "def diff(f: Callable[[float], float]) -> Callable[[float], float]:\n",
    "    return lambda x: f(Dual(x, 1.0)).d \n",
    "\n",
    "def diff_m_f(f):\n",
    "    def diff_f(**args):\n",
    "        ds = []\n",
    "        for arg in args:\n",
    "            tmp_args = args.copy()\n",
    "            tmp_args[arg] = Dual(args[arg], 1.0)\n",
    "            dual = f(**tmp_args)\n",
    "            ds.append(dual.d)\n",
    "        return ds\n",
    "    return diff_f"
   ]
  },
  {
   "cell_type": "code",
   "execution_count": 281,
   "metadata": {},
   "outputs": [
    {
     "data": {
      "text/plain": [
       "[10.0, 5.0, 1.0]"
      ]
     },
     "execution_count": 281,
     "metadata": {},
     "output_type": "execute_result"
    }
   ],
   "source": [
    "def f(x: float, y: float, z: float) -> float:\n",
    "    return x * y + z - 5 * y  \n",
    "\n",
    "f_diff = diff_m_f(f)\n",
    "\n",
    "f_diff(x=10, y=10, z=10)"
   ]
  }
 ],
 "metadata": {
  "kernelspec": {
   "display_name": "Python 3.10.0 64-bit",
   "language": "python",
   "name": "python3"
  },
  "language_info": {
   "codemirror_mode": {
    "name": "ipython",
    "version": 3
   },
   "file_extension": ".py",
   "mimetype": "text/x-python",
   "name": "python",
   "nbconvert_exporter": "python",
   "pygments_lexer": "ipython3",
   "version": "3.10.0"
  },
  "orig_nbformat": 4,
  "vscode": {
   "interpreter": {
    "hash": "c0626230337a9b30a7d84d7e98996ba80cc5c2394cbbb2a342d5cc76947e61f2"
   }
  }
 },
 "nbformat": 4,
 "nbformat_minor": 2
}
