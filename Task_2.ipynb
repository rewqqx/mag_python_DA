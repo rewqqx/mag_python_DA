{
 "cells": [
  {
   "cell_type": "markdown",
   "metadata": {},
   "source": [
    "# Задание 2.\n",
    "\n",
    "**NB. Все упражнения ниже нужно делать без использования циклов Python в явном (`while`, `for`) и неявном виде (list comprehension, `map`, `reduce` и пр)**\n",
    "\n",
    "Задания по манипуляциям с массивами чаще всего решаются в одно/два выражения. "
   ]
  },
  {
   "cell_type": "code",
   "execution_count": 1,
   "metadata": {},
   "outputs": [
    {
     "data": {
      "text/plain": [
       "array([[67, 21, 49, ..., 41, 17, 98],\n",
       "       [37, 64, 30, ...,  6, 35, 10],\n",
       "       [ 6, 84, 84, ..., 23, 14, 90],\n",
       "       ...,\n",
       "       [50, 64, 84, ..., 12, 22, 55],\n",
       "       [20, 41, 97, ..., 69, 39, 18],\n",
       "       [ 3, 31, 75, ..., 38, 34, 19]])"
      ]
     },
     "execution_count": 1,
     "metadata": {},
     "output_type": "execute_result"
    }
   ],
   "source": [
    "%matplotlib inline\n",
    "\n",
    "import numpy as np\n",
    "import matplotlib.pyplot as plt\n",
    "import seaborn as sns\n",
    "sns.set_theme()\n",
    "\n",
    "A = np.random.randint(0, 100, size=(200, 50))\n",
    "A"
   ]
  },
  {
   "cell_type": "markdown",
   "metadata": {},
   "source": [
    "# Задание 2.1 (2 балла)\n",
    "\n",
    "Сгенерируйте новый массив, в котором столбцы массива `A` переставлены в случайном порядке"
   ]
  },
  {
   "cell_type": "code",
   "execution_count": 2,
   "metadata": {},
   "outputs": [
    {
     "data": {
      "text/plain": [
       "array([[16, 49, 21, ..., 17,  5, 31],\n",
       "       [51, 30, 64, ..., 35, 33, 95],\n",
       "       [ 7, 84, 84, ..., 14, 22,  7],\n",
       "       ...,\n",
       "       [12, 84, 64, ..., 22, 17, 95],\n",
       "       [47, 97, 41, ..., 39,  1, 50],\n",
       "       [54, 75, 31, ..., 34, 68, 81]])"
      ]
     },
     "execution_count": 2,
     "metadata": {},
     "output_type": "execute_result"
    }
   ],
   "source": [
    "B = A.copy()\n",
    "np.random.shuffle(B.T)\n",
    "B"
   ]
  },
  {
   "cell_type": "markdown",
   "metadata": {},
   "source": [
    "# Задание 2.2 (5 баллов)\n",
    "\n",
    "Сгенерируйте новый массив, который содержит только те строки массива `A`, в которых: \n",
    "- сумма элементов по четным столбцам (индексы $0, 2, \\ldots$) больше среднего значения (по всему массиву) суммы элементов по нечетным столбцам (индексы $1, 3, \\ldots$) "
   ]
  },
  {
   "cell_type": "code",
   "execution_count": null,
   "metadata": {},
   "outputs": [],
   "source": []
  },
  {
   "cell_type": "markdown",
   "metadata": {},
   "source": [
    "# Задача 2.3 (3 балла)\n",
    "\n",
    "Найдите индекс строки массива `A`, в которой разница между максимальным и минимальным элементом максимальна"
   ]
  },
  {
   "cell_type": "code",
   "execution_count": 3,
   "metadata": {},
   "outputs": [
    {
     "data": {
      "text/plain": [
       "3"
      ]
     },
     "execution_count": 3,
     "metadata": {},
     "output_type": "execute_result"
    }
   ],
   "source": [
    "b = np.amax(A, axis=1) - np.amin(A, axis=1)\n",
    "np.where(b == np.amax(b))[0][0]"
   ]
  },
  {
   "cell_type": "markdown",
   "metadata": {},
   "source": [
    "# Задание 2.4 (7 баллов)\n",
    "\n",
    "Сгенерируйте массив той же размерности, что и `A`, но в котором каждый элемент заменен на его порядковый номер (начиная с 1) в отсортированном по возрастанию массиве из элементов `A`\n",
    "\n",
    "Если `A` выглядит так:\n",
    "$$\n",
    "\\begin{pmatrix}\n",
    "12 & 14\\\\\n",
    "1 & 2\n",
    "\\end{pmatrix}\n",
    "$$\n",
    "то результат должен быть\n",
    "$$\n",
    "\\begin{pmatrix}\n",
    "3 & 4\\\\\n",
    "1 & 2\n",
    "\\end{pmatrix}\n",
    "$$\n",
    "\n",
    "*Tip: рассмотрите возможность неоднократного применения [argsort()](https://numpy.org/doc/stable/reference/generated/numpy.ndarray.argsort.html)*"
   ]
  },
  {
   "cell_type": "code",
   "execution_count": 4,
   "metadata": {},
   "outputs": [
    {
     "data": {
      "text/plain": [
       "array([[6719, 2130, 4977, ..., 4169, 1667, 9853],\n",
       "       [3681, 6428, 3011, ...,  658, 3493, 1052],\n",
       "       [ 601, 8379, 8383, ..., 2322, 1395, 9017],\n",
       "       ...,\n",
       "       [5014, 6388, 8370, ..., 1205, 2223, 5569],\n",
       "       [2068, 4134, 9718, ..., 6919, 3903, 1852],\n",
       "       [ 351, 3071, 7521, ..., 3831, 3375, 1924]], dtype=int64)"
      ]
     },
     "execution_count": 4,
     "metadata": {},
     "output_type": "execute_result"
    }
   ],
   "source": [
    "C = A.copy()\n",
    "x = len(A)\n",
    "y = len(A[0])\n",
    "(np.argsort(np.argsort(C.reshape(x*y))) + 1).reshape(x,y)\n"
   ]
  },
  {
   "cell_type": "markdown",
   "metadata": {},
   "source": [
    "# Задание 2.5 (2 балла)\n",
    "\n",
    "Примените $\\min-\\max$ - нормализацию к строкам массива `A`. То есть нужно получить новый массивы, в каждой строке которого максимальный элементы равен $1$, минимальный - $0$. "
   ]
  },
  {
   "cell_type": "code",
   "execution_count": 5,
   "metadata": {},
   "outputs": [
    {
     "data": {
      "text/plain": [
       "array([[0.68367347, 0.21428571, 0.5       , ..., 0.41836735, 0.17346939,\n",
       "        1.        ],\n",
       "       [0.37634409, 0.66666667, 0.30107527, ..., 0.04301075, 0.35483871,\n",
       "        0.08602151],\n",
       "       [0.06122449, 0.85714286, 0.85714286, ..., 0.23469388, 0.14285714,\n",
       "        0.91836735],\n",
       "       ...,\n",
       "       [0.4787234 , 0.62765957, 0.84042553, ..., 0.07446809, 0.18085106,\n",
       "        0.53191489],\n",
       "       [0.19587629, 0.41237113, 0.98969072, ..., 0.70103093, 0.39175258,\n",
       "        0.17525773],\n",
       "       [0.02083333, 0.3125    , 0.77083333, ..., 0.38541667, 0.34375   ,\n",
       "        0.1875    ]])"
      ]
     },
     "execution_count": 5,
     "metadata": {},
     "output_type": "execute_result"
    }
   ],
   "source": [
    "x = len(A)\n",
    "D = A.copy()\n",
    "D = (A - np.amin(A, axis=1).reshape(x,1))/(np.amax(A, axis = 1) - np.amin(A, axis=1)).reshape(x,1)\n",
    "D"
   ]
  },
  {
   "cell_type": "markdown",
   "metadata": {},
   "source": [
    "# Задание 2.6 (2 балла)\n",
    "\n",
    "Сгенерируйте новый трехмерный массив, размерности $10 \\times 200 \\times 50$. Подмассивы по нулевой оси должны состоять из элементов `A`, умноженных на $1 - 10$ соответственно"
   ]
  },
  {
   "cell_type": "code",
   "execution_count": 6,
   "metadata": {},
   "outputs": [
    {
     "data": {
      "text/plain": [
       "array([[[ 67,  21,  49, ...,  41,  17,  98],\n",
       "        [ 37,  64,  30, ...,   6,  35,  10],\n",
       "        [  6,  84,  84, ...,  23,  14,  90],\n",
       "        ...,\n",
       "        [ 50,  64,  84, ...,  12,  22,  55],\n",
       "        [ 20,  41,  97, ...,  69,  39,  18],\n",
       "        [  3,  31,  75, ...,  38,  34,  19]],\n",
       "\n",
       "       [[134,  42,  98, ...,  82,  34, 196],\n",
       "        [ 74, 128,  60, ...,  12,  70,  20],\n",
       "        [ 12, 168, 168, ...,  46,  28, 180],\n",
       "        ...,\n",
       "        [100, 128, 168, ...,  24,  44, 110],\n",
       "        [ 40,  82, 194, ..., 138,  78,  36],\n",
       "        [  6,  62, 150, ...,  76,  68,  38]],\n",
       "\n",
       "       [[201,  63, 147, ..., 123,  51, 294],\n",
       "        [111, 192,  90, ...,  18, 105,  30],\n",
       "        [ 18, 252, 252, ...,  69,  42, 270],\n",
       "        ...,\n",
       "        [150, 192, 252, ...,  36,  66, 165],\n",
       "        [ 60, 123, 291, ..., 207, 117,  54],\n",
       "        [  9,  93, 225, ..., 114, 102,  57]],\n",
       "\n",
       "       ...,\n",
       "\n",
       "       [[536, 168, 392, ..., 328, 136, 784],\n",
       "        [296, 512, 240, ...,  48, 280,  80],\n",
       "        [ 48, 672, 672, ..., 184, 112, 720],\n",
       "        ...,\n",
       "        [400, 512, 672, ...,  96, 176, 440],\n",
       "        [160, 328, 776, ..., 552, 312, 144],\n",
       "        [ 24, 248, 600, ..., 304, 272, 152]],\n",
       "\n",
       "       [[603, 189, 441, ..., 369, 153, 882],\n",
       "        [333, 576, 270, ...,  54, 315,  90],\n",
       "        [ 54, 756, 756, ..., 207, 126, 810],\n",
       "        ...,\n",
       "        [450, 576, 756, ..., 108, 198, 495],\n",
       "        [180, 369, 873, ..., 621, 351, 162],\n",
       "        [ 27, 279, 675, ..., 342, 306, 171]],\n",
       "\n",
       "       [[670, 210, 490, ..., 410, 170, 980],\n",
       "        [370, 640, 300, ...,  60, 350, 100],\n",
       "        [ 60, 840, 840, ..., 230, 140, 900],\n",
       "        ...,\n",
       "        [500, 640, 840, ..., 120, 220, 550],\n",
       "        [200, 410, 970, ..., 690, 390, 180],\n",
       "        [ 30, 310, 750, ..., 380, 340, 190]]])"
      ]
     },
     "execution_count": 6,
     "metadata": {},
     "output_type": "execute_result"
    }
   ],
   "source": [
    "C = np.expand_dims(A, axis=0)\n",
    "C = np.concatenate([C, [A*2, A*3, A*4, A*5, A*6, A*7, A*8, A*9, A*10]])\n",
    "C"
   ]
  },
  {
   "cell_type": "markdown",
   "metadata": {},
   "source": [
    "# Задание 2.7 (2 балла)\n",
    "\n",
    "Создайте новый массив, такой же размерности, как и `A`, в котором сначала сгруппированы четные столбцы `A`, потом  нечетные. Используйте [np.concat()](https://numpy.org/doc/stable/reference/generated/numpy.concatenate.html) "
   ]
  },
  {
   "cell_type": "code",
   "execution_count": 7,
   "metadata": {},
   "outputs": [
    {
     "data": {
      "text/plain": [
       "array([[67, 49, 51, ..., 72, 41, 98],\n",
       "       [37, 30, 13, ..., 18,  6, 10],\n",
       "       [ 6, 84, 45, ..., 66, 23, 90],\n",
       "       ...,\n",
       "       [50, 84, 26, ..., 90, 12, 55],\n",
       "       [20, 97, 61, ..., 42, 69, 18],\n",
       "       [ 3, 75, 80, ..., 35, 38, 19]])"
      ]
     },
     "execution_count": 7,
     "metadata": {},
     "output_type": "execute_result"
    }
   ],
   "source": [
    "C = np.concatenate((A.T[::2], A.T[1::2])).T\n",
    "C"
   ]
  },
  {
   "cell_type": "markdown",
   "metadata": {},
   "source": [
    "# Задание 2.8 (2 балла)\n",
    "\n",
    "Посчитайте количество строк массива `A`, в который все элементы больше 5. Используйте [np.all()](https://numpy.org/doc/stable/reference/generated/numpy.all.html) "
   ]
  },
  {
   "cell_type": "code",
   "execution_count": 277,
   "metadata": {},
   "outputs": [
    {
     "data": {
      "text/plain": [
       "12"
      ]
     },
     "execution_count": 277,
     "metadata": {},
     "output_type": "execute_result"
    }
   ],
   "source": [
    "np.sum(np.all(A>5, axis=1) == True)"
   ]
  },
  {
   "cell_type": "markdown",
   "metadata": {},
   "source": [
    "# Задание 2.9 (2 балла)\n",
    "\n",
    "Поделите массив `A` горизонтально на 10 частей и создайте новый массив размерности $20 \\times 50$, который состоит из средних этих частей. Используйте [np.split()](https://numpy.org/doc/stable/reference/generated/numpy.split.html)"
   ]
  },
  {
   "cell_type": "code",
   "execution_count": 8,
   "metadata": {},
   "outputs": [
    {
     "data": {
      "text/plain": [
       "array([[39.3, 58.9, 35.2, 45.5, 60.1, 39.3, 58.1, 50.1, 51.5, 40.3, 50.2,\n",
       "        52. , 53. , 29.5, 49.3, 55.1, 52.9, 42.8, 47.6, 64.1, 59.2, 47.8,\n",
       "        45.1, 40.7, 59. , 52.7, 51.1, 50.7, 49.4, 56. , 58.1, 55.8, 54.7,\n",
       "        48.2, 51.6, 51. , 42.1, 63.5, 54.5, 68.1, 44.8, 55.3, 43.2, 55. ,\n",
       "        45.7, 59.6, 52.9, 48. , 48.6, 53.8],\n",
       "       [63. , 52.1, 58.9, 48.1, 51.9, 39.2, 50.9, 45.7, 51.9, 44.3, 46.5,\n",
       "        45.1, 58.6, 44.8, 40.1, 52.4, 45.9, 51.9, 53.7, 43.5, 43.1, 45.6,\n",
       "        49.2, 44.9, 63.2, 44.2, 44.5, 45.6, 59.8, 43.3, 57.5, 47.7, 62.5,\n",
       "        52.8, 58.8, 62.7, 41. , 39.1, 42. , 56.5, 46.2, 58.8, 67.3, 41.5,\n",
       "        47. , 51.8, 45.1, 51.3, 39.1, 44.3],\n",
       "       [45.2, 47.5, 46.4, 41.5, 48.3, 50.2, 42.1, 60. , 40.8, 60. , 43.4,\n",
       "        54.5, 44.8, 47.8, 20.3, 41.9, 64.8, 58.8, 58.2, 55.5, 57.5, 63.8,\n",
       "        61.6, 59.7, 59.6, 51.2, 50.6, 49.6, 51.3, 62.6, 40. , 55.4, 44.5,\n",
       "        59.3, 53.3, 63.4, 59.6, 41.2, 65.9, 49.6, 56.3, 37.7, 65.6, 49. ,\n",
       "        39.9, 47.1, 52.6, 41.4, 48.1, 66.6],\n",
       "       [40.7, 52.3, 50.6, 35. , 52.5, 66.2, 51.1, 54.3, 49.9, 60. , 52.9,\n",
       "        47. , 66.7, 33.7, 25.5, 43.8, 50.2, 57.1, 64.8, 40. , 57.7, 60.4,\n",
       "        55.3, 68.7, 28.2, 41.7, 54.9, 51.4, 51.5, 56. , 55.5, 52.6, 50.6,\n",
       "        52.7, 38.5, 54.5, 45.5, 48. , 37. , 57.6, 35.7, 63.4, 62.2, 53.8,\n",
       "        42.2, 62.3, 48. , 50.9, 54. , 49.8],\n",
       "       [39. , 49.7, 52.7, 76.8, 40.1, 55.5, 65.5, 31.7, 45.2, 50.2, 51. ,\n",
       "        48.2, 51.6, 59.2, 53.9, 46.8, 56.1, 44.2, 45.2, 39.3, 45. , 38. ,\n",
       "        63.3, 61.3, 49.9, 64.8, 50.4, 47.4, 51.8, 42.4, 54.1, 66.3, 61.7,\n",
       "        48.7, 45.7, 51.3, 52.7, 55.3, 45.9, 44.9, 53.3, 76.7, 61.9, 55.4,\n",
       "        54. , 45.6, 51.4, 57.5, 51.2, 49. ],\n",
       "       [50.1, 40.2, 54.6, 54.2, 51. , 52.6, 58. , 57.9, 59.3, 50.6, 46. ,\n",
       "        52.7, 47.8, 47.1, 49. , 41.5, 44.3, 43.9, 60.1, 59.5, 43.4, 42.9,\n",
       "        56. , 42.1, 53.5, 51.6, 37.2, 41.8, 41.2, 47.6, 27.9, 64.8, 39.7,\n",
       "        33.9, 55.1, 48.3, 44.4, 41.8, 35.1, 61.1, 34. , 56. , 58.3, 47.8,\n",
       "        36.1, 38.1, 39.1, 43. , 50.3, 27.8],\n",
       "       [41.2, 40.5, 55. , 42. , 61.8, 69.6, 54.2, 46.4, 43.7, 54.4, 28.7,\n",
       "        50.1, 35. , 48.7, 51.1, 53.7, 49.7, 64.2, 63.3, 54.2, 51.3, 40.9,\n",
       "        46.9, 53.2, 51.4, 45.5, 36. , 49.6, 39.6, 56.9, 36.4, 38.2, 50. ,\n",
       "        47.9, 68.1, 47.9, 56.3, 34.7, 43.1, 45.6, 50.1, 53.4, 40. , 57.7,\n",
       "        37.6, 37.4, 57. , 40.2, 59.1, 39. ],\n",
       "       [55.7, 40.5, 33.9, 48.1, 45.6, 44.2, 36.7, 47.5, 58.4, 35.4, 52.1,\n",
       "        35.4, 67.7, 44. , 49.6, 53. , 63.8, 43.7, 38.5, 40.3, 60.4, 33.6,\n",
       "        48.3, 35.3, 50.1, 39.5, 55.4, 55.3, 57.7, 53.3, 46.3, 35.5, 53. ,\n",
       "        40.8, 43. , 48.8, 46.7, 50. , 55.7, 44.9, 43.8, 50.1, 48.1, 45.8,\n",
       "        56.3, 57.4, 46.7, 40.3, 60.7, 37. ],\n",
       "       [52. , 50.1, 52.7, 63. , 48.6, 38.8, 59.6, 34.8, 32.9, 50.5, 44.7,\n",
       "        35.9, 55.7, 49.1, 36.1, 53.8, 58.2, 59.4, 70.3, 64.8, 35.3, 51.4,\n",
       "        44.4, 53.2, 53.8, 44.4, 56.8, 63.7, 58.7, 55.1, 54.3, 53.9, 35.4,\n",
       "        45.1, 61.3, 32.2, 53.8, 68.1, 52.4, 28.1, 46.2, 59.3, 54.7, 60.4,\n",
       "        58.4, 55.3, 46.3, 48.3, 49.8, 30. ],\n",
       "       [51.4, 59.3, 64.1, 38.2, 50.4, 48.8, 40.4, 53.5, 34.7, 37.9, 53.8,\n",
       "        31.1, 55.5, 36.4, 40.5, 53.4, 66.7, 32.8, 41.6, 61.7, 33.9, 52.6,\n",
       "        57. , 58.9, 61.4, 49.6, 68.8, 45.6, 58.4, 50.3, 46.1, 49.4, 56.7,\n",
       "        50.5, 54.8, 33.5, 72.1, 48.8, 54.2, 47.9, 35.6, 54.7, 32.6, 47.7,\n",
       "        59.5, 40. , 52.1, 46.1, 39.2, 46.5],\n",
       "       [43.6, 39.9, 36. , 63. , 52.7, 53.9, 59.8, 55.4, 56. , 53.5, 49.6,\n",
       "        46.7, 49.4, 53.9, 42.9, 70.6, 37.1, 54.5, 60.2, 73.5, 43.8, 50.6,\n",
       "        44.8, 64.2, 55.2, 60.8, 42.1, 55.2, 57.3, 43.1, 51.1, 43.8, 41.9,\n",
       "        52.2, 63.4, 52.5, 36.6, 48.8, 35.5, 63.7, 39.7, 52.3, 39.7, 46.2,\n",
       "        53.2, 44.8, 59.7, 52.1, 49.2, 72. ],\n",
       "       [63.2, 50.1, 39.5, 33.3, 54.4, 26.4, 39.3, 35.4, 36.9, 60.2, 46.8,\n",
       "        41.2, 45.2, 48.7, 59.8, 46.2, 44.4, 42.7, 65.5, 47.8, 47.6, 44.9,\n",
       "        49.7, 49.6, 50.1, 66.1, 61.3, 48.2, 50. , 45.9, 40.4, 48.7, 47.4,\n",
       "        48.1, 60.3, 42.2, 36.1, 51.1, 62.9, 54.8, 45.2, 61.2, 58.1, 49.5,\n",
       "        38.5, 60.3, 43.1, 36. , 57.2, 62.1],\n",
       "       [57.3, 53.5, 51.4, 53.3, 47.4, 48.2, 40.8, 44.8, 56.3, 49.7, 47.9,\n",
       "        46.3, 47.1, 56.2, 47.5, 55.7, 49. , 45.8, 43.7, 36.5, 32.6, 54.5,\n",
       "        46.2, 43. , 28.9, 58.2, 53. , 51.6, 55.5, 46. , 58.9, 56. , 60.4,\n",
       "        51. , 47.8, 48.4, 47.1, 51.8, 62.1, 44.8, 33.5, 50.6, 48.6, 52.1,\n",
       "        40.5, 50.6, 57.6, 53.9, 63.9, 48.4],\n",
       "       [56.2, 47.4, 47.3, 44.2, 63.4, 58.3, 43.9, 53. , 51.2, 50.9, 35.8,\n",
       "        51.8, 49.4, 35.8, 50.3, 47.8, 50.9, 53.1, 57.4, 49.2, 54.9, 54.3,\n",
       "        45.8, 22.5, 52. , 43.1, 42.9, 44.9, 65.1, 47.4, 49.8, 33.9, 57.4,\n",
       "        56.5, 40.8, 46.3, 45.4, 39.2, 45. , 41.3, 39.9, 48. , 40.9, 53.3,\n",
       "        47.6, 57.7, 39.3, 44.9, 67.1, 43. ],\n",
       "       [52.3, 56.8, 45.6, 57.8, 66.2, 46.5, 45.6, 54.5, 57.8, 48.6, 50.7,\n",
       "        44.3, 52.9, 53.7, 69.8, 56.6, 58.7, 36.1, 56.5, 39.7, 38.7, 54.7,\n",
       "        46. , 40.2, 51.3, 38.3, 59.6, 51.1, 51.5, 44. , 52.7, 45.2, 48.5,\n",
       "        35.6, 57.3, 53. , 64.5, 52.9, 62.4, 59.1, 41. , 36.1, 45.1, 60.9,\n",
       "        31.7, 59.3, 34.5, 55.2, 55. , 56.5],\n",
       "       [42.3, 49.7, 45.6, 37.6, 57.2, 64.2, 35. , 59.2, 51.6, 52.4, 48.1,\n",
       "        62.6, 60.4, 45.9, 49.2, 51.8, 44.2, 48.6, 49.6, 31. , 47.3, 61. ,\n",
       "        45.1, 43.9, 45. , 53.8, 48.9, 62.6, 39.3, 43.5, 53.4, 46.3, 35.8,\n",
       "        58.9, 56.6, 47.5, 59.2, 46.5, 73.8, 55.1, 39.9, 41.4, 49.6, 50.3,\n",
       "        38. , 51.7, 51.4, 49.7, 65.7, 52.3],\n",
       "       [66.6, 52.1, 44. , 56.9, 38.9, 44.9, 46.5, 49.5, 66. , 59.6, 57.3,\n",
       "        51.1, 56.9, 55.5, 62.7, 49.3, 44.3, 32.4, 47.1, 50. , 54.8, 61.9,\n",
       "        70. , 41.9, 50.9, 52.7, 46.4, 52.7, 41.5, 41.5, 40. , 60.2, 64.3,\n",
       "        50.8, 38.8, 51.1, 41.2, 43. , 45.9, 72.9, 48. , 49.7, 55.4, 57.5,\n",
       "        49.6, 62.5, 48.1, 45.1, 51.3, 30.9],\n",
       "       [40.3, 36.1, 47.5, 43.8, 64.3, 42.4, 51.3, 34.2, 49.7, 49. , 49.7,\n",
       "        55.1, 50.2, 32.9, 70.1, 55. , 49.2, 65. , 51.7, 31.5, 44.5, 53.8,\n",
       "        43.6, 48.2, 41.4, 49.2, 64.7, 40.3, 45.6, 54.1, 54.3, 45.6, 58.4,\n",
       "        48.7, 52.7, 60.8, 43.9, 42.1, 56.1, 57.9, 57.2, 48.1, 51.6, 51.3,\n",
       "        62.7, 46.8, 70.7, 64.1, 47.5, 54.1],\n",
       "       [48.9, 33.6, 36.6, 50. , 47.9, 42.2, 26.4, 36.3, 43. , 45.8, 57.6,\n",
       "        45.5, 40.1, 59.9, 35.9, 35.5, 49.8, 68.9, 40.4, 47.4, 60.7, 41. ,\n",
       "        43.4, 66.5, 35.8, 50. , 55. , 59. , 41.5, 48.8, 54. , 46.4, 67.7,\n",
       "        55.6, 66.9, 49.3, 51.7, 36.4, 53. , 44.9, 55.1, 45.6, 50.1, 56.4,\n",
       "        41. , 42.2, 48.6, 55.3, 47.4, 37.9],\n",
       "       [46.4, 35.1, 51.7, 43.3, 66.7, 56.3, 53.7, 65.3, 41.7, 50.3, 43.7,\n",
       "        49. , 55.1, 39.9, 52.6, 55. , 38.1, 71.8, 33.4, 55.8, 63.7, 64.9,\n",
       "        41.8, 46.7, 37.9, 53.2, 27.9, 39.7, 42.1, 53.1, 54.3, 47.6, 72.5,\n",
       "        61.1, 66.1, 44.3, 55.7, 45.7, 52.8, 56. , 53.4, 47.5, 42.3, 65.6,\n",
       "        49.2, 41.9, 51.7, 48.9, 61.2, 48.1]])"
      ]
     },
     "execution_count": 8,
     "metadata": {},
     "output_type": "execute_result"
    }
   ],
   "source": [
    "np.mean(np.array(np.split(A, 10)).reshape(1000, 10), axis=1).reshape(20,50)"
   ]
  },
  {
   "cell_type": "markdown",
   "metadata": {},
   "source": [
    "# Задание 2.10 (4 балла)\n",
    "\n",
    "\"Разверните\" массив `A` в одномерный массив. Оставьте в нём только уникальные элементы в том же порядке, в котором они встречаются в массиве. Используйте [np.unique()](https://numpy.org/doc/stable/reference/generated/numpy.unique.html)"
   ]
  },
  {
   "cell_type": "code",
   "execution_count": 9,
   "metadata": {},
   "outputs": [
    {
     "data": {
      "text/plain": [
       "array([ 0,  1,  2,  3,  4,  5,  6,  7,  8,  9, 10, 11, 12, 13, 14, 15, 16,\n",
       "       17, 18, 19, 20, 21, 22, 23, 24, 25, 26, 27, 28, 29, 30, 31, 32, 33,\n",
       "       34, 35, 36, 37, 38, 39, 40, 41, 42, 43, 44, 45, 46, 47, 48, 49, 50,\n",
       "       51, 52, 53, 54, 55, 56, 57, 58, 59, 60, 61, 62, 63, 64, 65, 66, 67,\n",
       "       68, 69, 70, 71, 72, 73, 74, 75, 76, 77, 78, 79, 80, 81, 82, 83, 84,\n",
       "       85, 86, 87, 88, 89, 90, 91, 92, 93, 94, 95, 96, 97, 98, 99])"
      ]
     },
     "execution_count": 9,
     "metadata": {},
     "output_type": "execute_result"
    }
   ],
   "source": [
    "C = A.copy()\n",
    "np.unique(C)"
   ]
  },
  {
   "cell_type": "markdown",
   "metadata": {},
   "source": [
    "# Задание 2.11 (3 балла)\n",
    "\n",
    "Создайте одномерный массив размерности $200$, в котором каждый элемент - евклидово расстояние между соответствующей строкой `A` и \"средней\" строкой `A`"
   ]
  },
  {
   "cell_type": "code",
   "execution_count": 10,
   "metadata": {},
   "outputs": [
    {
     "data": {
      "text/plain": [
       "array([210.73594378, 191.3244574 , 215.89920797, 202.97346625,\n",
       "       211.55920684, 201.73990185, 205.48646671, 207.2153421 ,\n",
       "       207.03982226, 179.48603845, 198.34908117, 192.69597297,\n",
       "       224.08234647, 200.06488448, 206.07857239, 178.37213347,\n",
       "       198.43091493, 216.9154628 , 194.98494301, 193.74843999,\n",
       "       198.15382409, 210.97094113, 221.97985945, 219.02901178,\n",
       "       188.93678308, 208.72083748, 194.95180943, 199.13723409,\n",
       "       212.33892248, 212.97405476, 198.32243443, 181.4850352 ,\n",
       "       203.91296673, 198.69435825, 202.12275478, 199.25021455,\n",
       "       188.98753398, 180.81913063, 205.62329148, 206.75697812,\n",
       "       216.411825  , 216.27724799, 198.2634056 , 198.51835683,\n",
       "       199.4158419 , 200.09309833, 211.55856872, 202.78766728,\n",
       "       199.53497939, 187.06615942, 194.48942902, 186.46755214,\n",
       "       203.01405863, 225.71441691, 210.3142601 , 189.86510475,\n",
       "       215.43135334, 206.28957317, 188.09427955, 183.2874191 ,\n",
       "       191.79199149, 197.5434332 , 213.14084076, 160.17427384,\n",
       "       219.95455894, 218.50452627, 231.25837931, 205.58868646,\n",
       "       198.46492889, 208.4315907 , 203.41127796, 203.13696857,\n",
       "       198.37174194, 197.6527207 , 202.8014497 , 215.77369627,\n",
       "       199.39056648, 165.0883945 , 228.72585774, 213.8616796 ,\n",
       "       197.93273605, 205.28698936, 207.51156112, 226.57852502,\n",
       "       187.72282227, 225.63669471, 210.45507359, 209.80836018,\n",
       "       210.2942177 , 209.98151823, 202.72922335, 192.10749074,\n",
       "       200.10339327, 213.08059039, 193.55432829, 191.23895524,\n",
       "       210.65855786, 223.34114713, 208.27990302, 209.06029752,\n",
       "       192.30613095, 188.53394389, 189.21566531, 209.80221162,\n",
       "       195.1817307 , 210.0418006 , 207.8558106 , 207.95585589,\n",
       "       206.04161716, 195.01337903, 208.0410248 , 245.91666881,\n",
       "       206.13053631, 221.93536897, 212.42953655, 194.14192747,\n",
       "       190.72802101, 202.54492835, 206.40374997, 191.56371786,\n",
       "       193.45637234, 213.98368629, 205.98572281, 212.97900836,\n",
       "       195.03622228, 185.89238285, 174.45591993, 165.46554928,\n",
       "       200.3792604 , 174.0973808 , 177.85158982, 199.19929217,\n",
       "       222.76307593, 191.82574905, 210.64111185, 215.18858706,\n",
       "       187.61513265, 211.93548075, 217.35452146, 211.15186004,\n",
       "       193.63787853, 191.35555388, 207.09729115, 197.71850697,\n",
       "       220.83183194, 212.96170548, 211.21159533, 207.89720537,\n",
       "       225.91686081, 215.83310219, 192.98367288, 213.83888327,\n",
       "       186.57014231, 212.85203311, 204.97109064, 227.28622484,\n",
       "       206.77436495, 218.66027989, 210.9016311 , 216.1569291 ,\n",
       "       199.10002009, 197.78760831, 185.90787503, 212.84679467,\n",
       "       226.21787728, 220.2408182 , 185.77698458, 211.32299449,\n",
       "       210.51579038, 205.0984349 , 200.2562808 , 208.44120994,\n",
       "       202.26331353, 179.99704998, 188.03525733, 204.10173444,\n",
       "       202.99006872, 174.9767356 , 205.77562538, 220.53087766,\n",
       "       217.60213234, 216.68645089, 188.01518024, 213.30004219,\n",
       "       220.5123534 , 202.85092556, 211.59463131, 208.61576642,\n",
       "       189.0610695 , 205.83587637, 205.26684584, 217.72913907,\n",
       "       198.47049655, 237.88187825, 188.71358722, 183.81813839,\n",
       "       226.45679058, 197.87288344, 188.67126967, 190.64400856])"
      ]
     },
     "execution_count": 10,
     "metadata": {},
     "output_type": "execute_result"
    }
   ],
   "source": [
    "C = np.sqrt(np.sum(np.square(A - np.mean(A, axis=0)), axis=1))\n",
    "C"
   ]
  },
  {
   "cell_type": "markdown",
   "metadata": {},
   "source": [
    "# Задание 2.12 (2 балла)\n",
    "\n",
    "Создайте новый массив, который состоит из элементов `A`, измененных по следующим правилам:\n",
    "- если элемент меньше $50$, то он умножается на $2$\n",
    "- в противном случае он умножается на $3$\n",
    "\n",
    "Используйте [np.where()](https://numpy.org/doc/stable/reference/generated/numpy.where.html)"
   ]
  },
  {
   "cell_type": "code",
   "execution_count": 11,
   "metadata": {},
   "outputs": [
    {
     "data": {
      "text/plain": [
       "array([[201,  42,  98, ...,  82,  34, 294],\n",
       "       [ 74, 192,  60, ...,  12,  70,  20],\n",
       "       [ 12, 252, 252, ...,  46,  28, 270],\n",
       "       ...,\n",
       "       [150, 192, 252, ...,  24,  44, 165],\n",
       "       [ 40,  82, 291, ..., 207,  78,  36],\n",
       "       [  6,  62, 225, ...,  76,  68,  38]])"
      ]
     },
     "execution_count": 11,
     "metadata": {},
     "output_type": "execute_result"
    }
   ],
   "source": [
    "C = A.copy()\n",
    "np.where(C<50, C*2, C*3)"
   ]
  },
  {
   "cell_type": "markdown",
   "metadata": {},
   "source": [
    "# Задание 2.13 (7 баллов)\n",
    "\n",
    "Разверните массив `A` в одномерный массив. Создайте три новых массива, подсчитав скользящие средние по окнам $3$, $5$, $10$. Найдите сумму этих массивов, выровнив из размерности нулями справа\n",
    "\n",
    "*Tip: реализуйте функцию, которая считает скользящее среднее. Используйте [np.cumsum()](https://numpy.org/doc/stable/reference/generated/numpy.cumsum.html) или [np.convolve()](https://numpy.org/doc/stable/reference/generated/numpy.convolve.html)*"
   ]
  },
  {
   "cell_type": "code",
   "execution_count": 12,
   "metadata": {},
   "outputs": [
    {
     "name": "stdout",
     "output_type": "stream",
     "text": [
      "[67 21 49 ... 38 34 19]\n",
      "[45.66666667 23.33333333 33.33333333 ... 29.         28.66666667\n",
      " 30.33333333]\n",
      "[37.6 24.2 38.4 ... 36.2 33.  28. ]\n",
      "[39.3 40.  44.1 ... 56.  51.8 48.1]\n",
      "[122.56666667  87.53333333 115.83333333 ...  57.          28.66666667\n",
      "  30.33333333]\n"
     ]
    }
   ],
   "source": [
    "C = A.copy()\n",
    "C = C.reshape(200*50)\n",
    "print(C)\n",
    "def mov_avg(arr, n):\n",
    "    res = np.cumsum(arr, dtype=float)\n",
    "    res[n:] = res[n:] - res[:-n]\n",
    "    return res[n-1:]/n\n",
    "\n",
    "print(mov_avg(C,3))\n",
    "print(mov_avg(C,5))\n",
    "print(mov_avg(C,10))\n",
    "print(mov_avg(C,3) + np.append(mov_avg(C,5), [0,0]) + np.append(mov_avg(C,10), [0,0,0,0,0,0,0]))"
   ]
  },
  {
   "cell_type": "markdown",
   "metadata": {},
   "source": [
    "# Задание 2.14 (8 баллов)\n",
    "\n",
    "Постройте график функции $$f(x) = (5  \\sin(2x) - \\cos^2(x) - 1 + |x^3| - x^2) / (x^2 + 1)$$  \n",
    "\n",
    "и производной от этой функции.  Найдите минимум с помощью `scipy` и обозначьте его на графике. На этой же оси постройте графики скользящего среднего этой функции с окном $1$, $2$, $5$."
   ]
  },
  {
   "cell_type": "code",
   "execution_count": 13,
   "metadata": {},
   "outputs": [
    {
     "data": {
      "image/png": "[encoded data removed]",
      "text/plain": [
       "<Figure size 640x480 with 1 Axes>"
      ]
     },
     "metadata": {},
     "output_type": "display_data"
    }
   ],
   "source": [
    "import scipy\n",
    "\n",
    "def f(x):\n",
    "    return (5*np.sin(2*x) - (np.cos(x))**2 - 1 + abs(x**3) - x**2)/(x**2+1)\n",
    "\n",
    "x = np.linspace(-10, 10, 100)\n",
    "\n",
    "fig, ax=plt.subplots()\n",
    "\n",
    "f_diff = np.append(np.diff(f(x))/0.2, 0)\n",
    "\n",
    "def mov_avg(arr, n):\n",
    "    res = np.cumsum(arr, dtype=float)\n",
    "    res[n:] = res[n:] - res[:-n]\n",
    "    return res[n-1:]/n\n",
    "avg_1 = mov_avg(f(x), 1)\n",
    "avg_2 = mov_avg(f(x), 2)\n",
    "avg_5 = mov_avg(f(x), 5)\n",
    "# print(avg_1)\n",
    "avg_2 = np.insert(avg_2, 0, 0)\n",
    "avg_5 = np.insert(avg_5, 0, [0,0])\n",
    "avg_5 = np.append(avg_5, [0,0])\n",
    "# np.append(avg_2, 0)\n",
    "ax.plot(x, f(x))\n",
    "ax.plot(x, avg_1)\n",
    "ax.plot(x, avg_2)\n",
    "ax.plot(x, avg_5)\n",
    "ax.plot(x, f_diff)\n",
    "ax.scatter(scipy.optimize.golden(f, full_output=True)[0], scipy.optimize.golden(f, full_output=True)[1])\n",
    "plt.show()\n"
   ]
  },
  {
   "cell_type": "markdown",
   "metadata": {},
   "source": [
    "# Задание 2.15 (10 баллов)\n",
    "\n",
    "Есть следующий алгоритм семплинирования, на вход функции подается вектор из целых положительных чисел и число семплов."
   ]
  },
  {
   "cell_type": "code",
   "execution_count": 14,
   "metadata": {},
   "outputs": [
    {
     "data": {
      "text/plain": [
       "[0, 1, 4, 0, 0]"
      ]
     },
     "execution_count": 14,
     "metadata": {},
     "output_type": "execute_result"
    }
   ],
   "source": [
    "from typing import List \n",
    "\n",
    "def sample(x: List[int], c: int) -> List[int]:\n",
    "    assert len(x) > 0\n",
    "    \n",
    "    s = np.sum(x)\n",
    "    res = []\n",
    "    for _ in range(c):\n",
    "        val = s * np.random.random()\n",
    "        cur, idx = 0, 0        \n",
    "        while cur + x[idx] <= val:\n",
    "            cur += x[idx]\n",
    "            idx += 1\n",
    "            \n",
    "        res.append(idx)\n",
    "    return res\n",
    "\n",
    "            \n",
    "sample([50, 3, 1, 7, 20], 5)   "
   ]
  },
  {
   "cell_type": "markdown",
   "metadata": {},
   "source": [
    "Реализуйте данный алгоритм более оптимальным способом на массивах `numpy`, без использования циклов. Проверьте корректность и идентичность алгоритмов семплирования с помощью статистических тестов."
   ]
  },
  {
   "cell_type": "code",
   "execution_count": 15,
   "metadata": {},
   "outputs": [
    {
     "name": "stdout",
     "output_type": "stream",
     "text": [
      "[50  3  7]\n"
     ]
    }
   ],
   "source": [
    "x = np.array([50, 3, 1, 7, 20])\n",
    "c = np.linspace(0, 3, 3, dtype='int64')\n",
    "print(np.choose(c, x))"
   ]
  },
  {
   "cell_type": "markdown",
   "metadata": {},
   "source": [
    "# Задание 2.16 (5 баллов)\n",
    "\n",
    "Есть следующий алгоритм \"случайного блуждания\""
   ]
  },
  {
   "cell_type": "code",
   "execution_count": 16,
   "metadata": {},
   "outputs": [
    {
     "data": {
      "text/plain": [
       "1891"
      ]
     },
     "execution_count": 16,
     "metadata": {},
     "output_type": "execute_result"
    }
   ],
   "source": [
    "import random \n",
    "\n",
    "def walk(n: int):\n",
    "    cur_position = 0\n",
    "    for i in range(n):\n",
    "        cur_position += random.choice([-3, -1, 0, 2, 3])\n",
    "\n",
    "    return cur_position\n",
    "\n",
    "walk(10_000)"
   ]
  },
  {
   "cell_type": "markdown",
   "metadata": {},
   "source": [
    "Реализуйте более эффективную версию с помощью `numpy`, сравните производительность (используя, например, magic `timeit`). Воспользовавшись [kdeplot()](https://seaborn.pydata.org/generated/seaborn.kdeplot.html) или аналогами, постройте график распределения значений `walk(10_000)` на каком-то разумном числе запусков. "
   ]
  },
  {
   "cell_type": "code",
   "execution_count": 18,
   "metadata": {},
   "outputs": [
    {
     "name": "stdout",
     "output_type": "stream",
     "text": [
      "716 µs ± 90.8 µs per loop (mean ± std. dev. of 7 runs, 1,000 loops each)\n",
      "8.96 ms ± 774 µs per loop (mean ± std. dev. of 7 runs, 100 loops each)\n"
     ]
    }
   ],
   "source": [
    "def walk_np(n: int):\n",
    "    arr = np.array([-3, -1, 0, 2, 3])\n",
    "    pos_arr = np.random.choice(5, n)\n",
    "    return np.sum(np.choose(pos_arr,arr))\n",
    "\n",
    "walk_np(10_000)\n",
    "%timeit walk_np(10_000)\n",
    "%timeit walk(10_000)"
   ]
  },
  {
   "cell_type": "code",
   "execution_count": 19,
   "metadata": {},
   "outputs": [
    {
     "name": "stdout",
     "output_type": "stream",
     "text": [
      "[1890. 2172. 2104. 2004. 1786. 2219. 2047. 2025. 2267. 2121. 2032. 2062.\n",
      " 1810. 2235. 1661. 1943. 1891. 2292. 2289. 2083. 1398. 2146. 1970. 1793.\n",
      " 2004. 1789. 2096. 1831. 2152. 2557. 1721. 1796. 1925. 1735. 1835. 2068.\n",
      " 1831. 2372. 1705. 1734. 2007. 1744. 1578. 2326. 2197. 2223. 1901. 2144.\n",
      " 1803. 1660. 1985. 1573. 1841. 2135. 1776. 2059. 1717. 2066. 2320. 1885.\n",
      " 1847. 2084. 2063. 1691. 2002. 1810. 2094. 1512. 2284. 2233. 2320. 1994.\n",
      " 2012. 1704. 1694. 1923. 2261. 2169. 1745. 1958. 1858. 1804. 1997. 1928.\n",
      " 2052. 1836. 2025. 2063. 2073. 2331. 2047. 1992. 2168. 2020. 2329. 1554.\n",
      " 2168. 2388. 2181. 2083.]\n"
     ]
    },
    {
     "data": {
      "text/plain": [
       "<AxesSubplot: ylabel='Density'>"
      ]
     },
     "execution_count": 19,
     "metadata": {},
     "output_type": "execute_result"
    },
    {
     "data": {
      "image/png": "[encoded data removed]",
      "text/plain": [
       "<Figure size 640x480 with 1 Axes>"
      ]
     },
     "metadata": {},
     "output_type": "display_data"
    }
   ],
   "source": [
    "tmp = np.array([])\n",
    "for i in range(100):\n",
    "    tmp = np.append(tmp, walk_np(10_000))\n",
    "print(tmp)    \n",
    "sns.kdeplot(tmp)"
   ]
  },
  {
   "cell_type": "markdown",
   "metadata": {},
   "source": [
    "# Задание 2.17 (5 баллов)\n",
    "\n",
    "Имеется функция, которая проделывает достаточно странные манипуляции с массивом `numpy`"
   ]
  },
  {
   "cell_type": "code",
   "execution_count": 6,
   "metadata": {},
   "outputs": [
    {
     "data": {
      "text/plain": [
       "1.2810749618657322"
      ]
     },
     "execution_count": 6,
     "metadata": {},
     "output_type": "execute_result"
    }
   ],
   "source": [
    "import numpy.typing as npt\n",
    "\n",
    "def strange_conv(a: npt.NDArray[np.float64]) -> np.float64:\n",
    "    x = a.shape[0]\n",
    "    y = a.shape[1]\n",
    "\n",
    "    t = 1.\n",
    "    for y in range(y - 5):\n",
    "        for x in range(x - 3):\n",
    "            c = 1.5 * a[y+1, x+2] - a[y+5, x+3] * a[y, x] + 0.2 * a[y+4, x]\n",
    "            t = 0.2 * t + 0.8 * c\n",
    "\n",
    "    return t\n",
    "\n",
    "\n",
    "a = np.random.random((10000, 10000))\n",
    "strange_conv(a)\n"
   ]
  },
  {
   "cell_type": "markdown",
   "metadata": {},
   "source": [
    "Оптимизируйте данную функцию с помощью (2 на выбор):\n",
    "- [Numba](https://numba.pydata.org)\n",
    "- `Cython` (+5 баллов)\n",
    "- [Taichi](https://github.com/taichi-dev/taichi) (+5 баллов)\n",
    "- `Pythran `[[1]](https://pythran.readthedocs.io/en/latest/), [[2]](https://serge-sans-paille.github.io/pythran-stories/pythran-tutorial.html) (+2 балла)\n",
    "\n",
    "Сравните производительность."
   ]
  },
  {
   "cell_type": "code",
   "execution_count": 1,
   "metadata": {},
   "outputs": [],
   "source": [
    "%load_ext cython"
   ]
  },
  {
   "cell_type": "code",
   "execution_count": 5,
   "metadata": {},
   "outputs": [
    {
     "ename": "DistutilsPlatformError",
     "evalue": "Unable to find vcvarsall.bat",
     "output_type": "error",
     "traceback": [
      "\u001b[1;31m---------------------------------------------------------------------------\u001b[0m",
      "\u001b[1;31mDistutilsPlatformError\u001b[0m                    Traceback (most recent call last)",
      "Cell \u001b[1;32mIn [5], line 1\u001b[0m\n\u001b[1;32m----> 1\u001b[0m get_ipython()\u001b[39m.\u001b[39;49mrun_cell_magic(\u001b[39m'\u001b[39;49m\u001b[39mcython\u001b[39;49m\u001b[39m'\u001b[39;49m, \u001b[39m'\u001b[39;49m\u001b[39m'\u001b[39;49m, \u001b[39m'\u001b[39;49m\u001b[39mimport numpy as np\u001b[39;49m\u001b[39m\\n\u001b[39;49;00m\u001b[39m\\n\u001b[39;49;00m\u001b[39mcdef int max(int a, int b):\u001b[39;49m\u001b[39m\\n\u001b[39;49;00m\u001b[39m    return a if a > b else b\u001b[39;49m\u001b[39m\\n\u001b[39;49;00m\u001b[39m\\n\u001b[39;49;00m\u001b[39mcdef int chebyshev(int x1, int y1, int x2, int y2):\u001b[39;49m\u001b[39m\\n\u001b[39;49;00m\u001b[39m    return max(abs(x1 - x2), abs(y1 - y2))\u001b[39;49m\u001b[39m\\n\u001b[39;49;00m\u001b[39m\\n\u001b[39;49;00m\u001b[39mdef c_benchmark():\u001b[39;49m\u001b[39m\\n\u001b[39;49;00m\u001b[39m    a = np.random.rand(1000, 2)\u001b[39;49m\u001b[39m\\n\u001b[39;49;00m\u001b[39m    b = np.random.rand(1000, 2)\u001b[39;49m\u001b[39m\\n\u001b[39;49;00m\u001b[39m    \u001b[39;49m\u001b[39m\\n\u001b[39;49;00m\u001b[39m    for x1, y1 in a:\u001b[39;49m\u001b[39m\\n\u001b[39;49;00m\u001b[39m        for x2, y2 in b:\u001b[39;49m\u001b[39m\\n\u001b[39;49;00m\u001b[39m            chebyshev(x1, x2, y1, y2)\u001b[39;49m\u001b[39m\\n\u001b[39;49;00m\u001b[39m'\u001b[39;49m)\n",
      "File \u001b[1;32mc:\\Users\\rewqq\\AppData\\Local\\Programs\\Python\\Python310\\lib\\site-packages\\IPython\\core\\interactiveshell.py:2362\u001b[0m, in \u001b[0;36mInteractiveShell.run_cell_magic\u001b[1;34m(self, magic_name, line, cell)\u001b[0m\n\u001b[0;32m   2360\u001b[0m \u001b[39mwith\u001b[39;00m \u001b[39mself\u001b[39m\u001b[39m.\u001b[39mbuiltin_trap:\n\u001b[0;32m   2361\u001b[0m     args \u001b[39m=\u001b[39m (magic_arg_s, cell)\n\u001b[1;32m-> 2362\u001b[0m     result \u001b[39m=\u001b[39m fn(\u001b[39m*\u001b[39margs, \u001b[39m*\u001b[39m\u001b[39m*\u001b[39mkwargs)\n\u001b[0;32m   2363\u001b[0m \u001b[39mreturn\u001b[39;00m result\n",
      "File \u001b[1;32mc:\\Users\\rewqq\\AppData\\Local\\Programs\\Python\\Python310\\lib\\site-packages\\Cython\\Build\\IpythonMagic.py:345\u001b[0m, in \u001b[0;36mCythonMagics.cython\u001b[1;34m(self, line, cell)\u001b[0m\n\u001b[0;32m    342\u001b[0m         \u001b[39mself\u001b[39m\u001b[39m.\u001b[39m_profile_pgo_wrapper(extension, lib_dir)\n\u001b[0;32m    344\u001b[0m \u001b[39mtry\u001b[39;00m:\n\u001b[1;32m--> 345\u001b[0m     \u001b[39mself\u001b[39;49m\u001b[39m.\u001b[39;49m_build_extension(extension, lib_dir, pgo_step_name\u001b[39m=\u001b[39;49m\u001b[39m'\u001b[39;49m\u001b[39muse\u001b[39;49m\u001b[39m'\u001b[39;49m \u001b[39mif\u001b[39;49;00m args\u001b[39m.\u001b[39;49mpgo \u001b[39melse\u001b[39;49;00m \u001b[39mNone\u001b[39;49;00m,\n\u001b[0;32m    346\u001b[0m                           quiet\u001b[39m=\u001b[39;49margs\u001b[39m.\u001b[39;49mquiet)\n\u001b[0;32m    347\u001b[0m \u001b[39mexcept\u001b[39;00m distutils\u001b[39m.\u001b[39merrors\u001b[39m.\u001b[39mCompileError:\n\u001b[0;32m    348\u001b[0m     \u001b[39m# Build failed and printed error message\u001b[39;00m\n\u001b[0;32m    349\u001b[0m     \u001b[39mreturn\u001b[39;00m \u001b[39mNone\u001b[39;00m\n",
      "File \u001b[1;32mc:\\Users\\rewqq\\AppData\\Local\\Programs\\Python\\Python310\\lib\\site-packages\\Cython\\Build\\IpythonMagic.py:459\u001b[0m, in \u001b[0;36mCythonMagics._build_extension\u001b[1;34m(self, extension, lib_dir, temp_dir, pgo_step_name, quiet)\u001b[0m\n\u001b[0;32m    457\u001b[0m     \u001b[39mif\u001b[39;00m \u001b[39mnot\u001b[39;00m quiet:\n\u001b[0;32m    458\u001b[0m         old_threshold \u001b[39m=\u001b[39m distutils\u001b[39m.\u001b[39mlog\u001b[39m.\u001b[39mset_threshold(distutils\u001b[39m.\u001b[39mlog\u001b[39m.\u001b[39mDEBUG)\n\u001b[1;32m--> 459\u001b[0m     build_extension\u001b[39m.\u001b[39;49mrun()\n\u001b[0;32m    460\u001b[0m \u001b[39mfinally\u001b[39;00m:\n\u001b[0;32m    461\u001b[0m     \u001b[39mif\u001b[39;00m \u001b[39mnot\u001b[39;00m quiet \u001b[39mand\u001b[39;00m old_threshold \u001b[39mis\u001b[39;00m \u001b[39mnot\u001b[39;00m \u001b[39mNone\u001b[39;00m:\n",
      "File \u001b[1;32mc:\\Users\\rewqq\\AppData\\Local\\Programs\\Python\\Python310\\lib\\distutils\\command\\build_ext.py:340\u001b[0m, in \u001b[0;36mbuild_ext.run\u001b[1;34m(self)\u001b[0m\n\u001b[0;32m    337\u001b[0m     \u001b[39mself\u001b[39m\u001b[39m.\u001b[39mcompiler\u001b[39m.\u001b[39mset_link_objects(\u001b[39mself\u001b[39m\u001b[39m.\u001b[39mlink_objects)\n\u001b[0;32m    339\u001b[0m \u001b[39m# Now actually compile and link everything.\u001b[39;00m\n\u001b[1;32m--> 340\u001b[0m \u001b[39mself\u001b[39;49m\u001b[39m.\u001b[39;49mbuild_extensions()\n",
      "File \u001b[1;32mc:\\Users\\rewqq\\AppData\\Local\\Programs\\Python\\Python310\\lib\\distutils\\command\\build_ext.py:449\u001b[0m, in \u001b[0;36mbuild_ext.build_extensions\u001b[1;34m(self)\u001b[0m\n\u001b[0;32m    447\u001b[0m     \u001b[39mself\u001b[39m\u001b[39m.\u001b[39m_build_extensions_parallel()\n\u001b[0;32m    448\u001b[0m \u001b[39melse\u001b[39;00m:\n\u001b[1;32m--> 449\u001b[0m     \u001b[39mself\u001b[39;49m\u001b[39m.\u001b[39;49m_build_extensions_serial()\n",
      "File \u001b[1;32mc:\\Users\\rewqq\\AppData\\Local\\Programs\\Python\\Python310\\lib\\distutils\\command\\build_ext.py:474\u001b[0m, in \u001b[0;36mbuild_ext._build_extensions_serial\u001b[1;34m(self)\u001b[0m\n\u001b[0;32m    472\u001b[0m \u001b[39mfor\u001b[39;00m ext \u001b[39min\u001b[39;00m \u001b[39mself\u001b[39m\u001b[39m.\u001b[39mextensions:\n\u001b[0;32m    473\u001b[0m     \u001b[39mwith\u001b[39;00m \u001b[39mself\u001b[39m\u001b[39m.\u001b[39m_filter_build_errors(ext):\n\u001b[1;32m--> 474\u001b[0m         \u001b[39mself\u001b[39;49m\u001b[39m.\u001b[39;49mbuild_extension(ext)\n",
      "File \u001b[1;32mc:\\Users\\rewqq\\AppData\\Local\\Programs\\Python\\Python310\\lib\\distutils\\command\\build_ext.py:529\u001b[0m, in \u001b[0;36mbuild_ext.build_extension\u001b[1;34m(self, ext)\u001b[0m\n\u001b[0;32m    526\u001b[0m \u001b[39mfor\u001b[39;00m undef \u001b[39min\u001b[39;00m ext\u001b[39m.\u001b[39mundef_macros:\n\u001b[0;32m    527\u001b[0m     macros\u001b[39m.\u001b[39mappend((undef,))\n\u001b[1;32m--> 529\u001b[0m objects \u001b[39m=\u001b[39m \u001b[39mself\u001b[39;49m\u001b[39m.\u001b[39;49mcompiler\u001b[39m.\u001b[39;49mcompile(sources,\n\u001b[0;32m    530\u001b[0m                                  output_dir\u001b[39m=\u001b[39;49m\u001b[39mself\u001b[39;49m\u001b[39m.\u001b[39;49mbuild_temp,\n\u001b[0;32m    531\u001b[0m                                  macros\u001b[39m=\u001b[39;49mmacros,\n\u001b[0;32m    532\u001b[0m                                  include_dirs\u001b[39m=\u001b[39;49mext\u001b[39m.\u001b[39;49minclude_dirs,\n\u001b[0;32m    533\u001b[0m                                  debug\u001b[39m=\u001b[39;49m\u001b[39mself\u001b[39;49m\u001b[39m.\u001b[39;49mdebug,\n\u001b[0;32m    534\u001b[0m                                  extra_postargs\u001b[39m=\u001b[39;49mextra_args,\n\u001b[0;32m    535\u001b[0m                                  depends\u001b[39m=\u001b[39;49mext\u001b[39m.\u001b[39;49mdepends)\n\u001b[0;32m    537\u001b[0m \u001b[39m# XXX outdated variable, kept here in case third-part code\u001b[39;00m\n\u001b[0;32m    538\u001b[0m \u001b[39m# needs it.\u001b[39;00m\n\u001b[0;32m    539\u001b[0m \u001b[39mself\u001b[39m\u001b[39m.\u001b[39m_built_objects \u001b[39m=\u001b[39m objects[:]\n",
      "File \u001b[1;32mc:\\Users\\rewqq\\AppData\\Local\\Programs\\Python\\Python310\\lib\\distutils\\_msvccompiler.py:323\u001b[0m, in \u001b[0;36mMSVCCompiler.compile\u001b[1;34m(self, sources, output_dir, macros, include_dirs, debug, extra_preargs, extra_postargs, depends)\u001b[0m\n\u001b[0;32m    318\u001b[0m \u001b[39mdef\u001b[39;00m \u001b[39mcompile\u001b[39m(\u001b[39mself\u001b[39m, sources,\n\u001b[0;32m    319\u001b[0m             output_dir\u001b[39m=\u001b[39m\u001b[39mNone\u001b[39;00m, macros\u001b[39m=\u001b[39m\u001b[39mNone\u001b[39;00m, include_dirs\u001b[39m=\u001b[39m\u001b[39mNone\u001b[39;00m, debug\u001b[39m=\u001b[39m\u001b[39m0\u001b[39m,\n\u001b[0;32m    320\u001b[0m             extra_preargs\u001b[39m=\u001b[39m\u001b[39mNone\u001b[39;00m, extra_postargs\u001b[39m=\u001b[39m\u001b[39mNone\u001b[39;00m, depends\u001b[39m=\u001b[39m\u001b[39mNone\u001b[39;00m):\n\u001b[0;32m    322\u001b[0m     \u001b[39mif\u001b[39;00m \u001b[39mnot\u001b[39;00m \u001b[39mself\u001b[39m\u001b[39m.\u001b[39minitialized:\n\u001b[1;32m--> 323\u001b[0m         \u001b[39mself\u001b[39;49m\u001b[39m.\u001b[39;49minitialize()\n\u001b[0;32m    324\u001b[0m     compile_info \u001b[39m=\u001b[39m \u001b[39mself\u001b[39m\u001b[39m.\u001b[39m_setup_compile(output_dir, macros, include_dirs,\n\u001b[0;32m    325\u001b[0m                                        sources, depends, extra_postargs)\n\u001b[0;32m    326\u001b[0m     macros, objects, extra_postargs, pp_opts, build \u001b[39m=\u001b[39m compile_info\n",
      "File \u001b[1;32mc:\\Users\\rewqq\\AppData\\Local\\Programs\\Python\\Python310\\lib\\distutils\\_msvccompiler.py:220\u001b[0m, in \u001b[0;36mMSVCCompiler.initialize\u001b[1;34m(self, plat_name)\u001b[0m\n\u001b[0;32m    217\u001b[0m \u001b[39m# Get the vcvarsall.bat spec for the requested platform.\u001b[39;00m\n\u001b[0;32m    218\u001b[0m plat_spec \u001b[39m=\u001b[39m PLAT_TO_VCVARS[plat_name]\n\u001b[1;32m--> 220\u001b[0m vc_env \u001b[39m=\u001b[39m _get_vc_env(plat_spec)\n\u001b[0;32m    221\u001b[0m \u001b[39mif\u001b[39;00m \u001b[39mnot\u001b[39;00m vc_env:\n\u001b[0;32m    222\u001b[0m     \u001b[39mraise\u001b[39;00m DistutilsPlatformError(\u001b[39m\"\u001b[39m\u001b[39mUnable to find a compatible \u001b[39m\u001b[39m\"\u001b[39m\n\u001b[0;32m    223\u001b[0m         \u001b[39m\"\u001b[39m\u001b[39mVisual Studio installation.\u001b[39m\u001b[39m\"\u001b[39m)\n",
      "File \u001b[1;32mc:\\Users\\rewqq\\AppData\\Local\\Programs\\Python\\Python310\\lib\\distutils\\_msvccompiler.py:122\u001b[0m, in \u001b[0;36m_get_vc_env\u001b[1;34m(plat_spec)\u001b[0m\n\u001b[0;32m    120\u001b[0m vcvarsall, _ \u001b[39m=\u001b[39m _find_vcvarsall(plat_spec)\n\u001b[0;32m    121\u001b[0m \u001b[39mif\u001b[39;00m \u001b[39mnot\u001b[39;00m vcvarsall:\n\u001b[1;32m--> 122\u001b[0m     \u001b[39mraise\u001b[39;00m DistutilsPlatformError(\u001b[39m\"\u001b[39m\u001b[39mUnable to find vcvarsall.bat\u001b[39m\u001b[39m\"\u001b[39m)\n\u001b[0;32m    124\u001b[0m \u001b[39mtry\u001b[39;00m:\n\u001b[0;32m    125\u001b[0m     out \u001b[39m=\u001b[39m subprocess\u001b[39m.\u001b[39mcheck_output(\n\u001b[0;32m    126\u001b[0m         \u001b[39m'\u001b[39m\u001b[39mcmd /u /c \u001b[39m\u001b[39m\"\u001b[39m\u001b[39m{}\u001b[39;00m\u001b[39m\"\u001b[39m\u001b[39m \u001b[39m\u001b[39m{}\u001b[39;00m\u001b[39m && set\u001b[39m\u001b[39m'\u001b[39m\u001b[39m.\u001b[39mformat(vcvarsall, plat_spec),\n\u001b[0;32m    127\u001b[0m         stderr\u001b[39m=\u001b[39msubprocess\u001b[39m.\u001b[39mSTDOUT,\n\u001b[0;32m    128\u001b[0m     )\u001b[39m.\u001b[39mdecode(\u001b[39m'\u001b[39m\u001b[39mutf-16le\u001b[39m\u001b[39m'\u001b[39m, errors\u001b[39m=\u001b[39m\u001b[39m'\u001b[39m\u001b[39mreplace\u001b[39m\u001b[39m'\u001b[39m)\n",
      "\u001b[1;31mDistutilsPlatformError\u001b[0m: Unable to find vcvarsall.bat"
     ]
    }
   ],
   "source": [
    "%%cython\n",
    "import numpy as np\n",
    "\n",
    "cdef int max(int a, int b):\n",
    "    return a if a > b else b\n",
    "\n",
    "cdef int chebyshev(int x1, int y1, int x2, int y2):\n",
    "    return max(abs(x1 - x2), abs(y1 - y2))\n",
    "\n",
    "def c_benchmark():\n",
    "    a = np.random.rand(1000, 2)\n",
    "    b = np.random.rand(1000, 2)\n",
    "    \n",
    "    for x1, y1 in a:\n",
    "        for x2, y2 in b:\n",
    "            chebyshev(x1, x2, y1, y2)"
   ]
  },
  {
   "cell_type": "code",
   "execution_count": 22,
   "metadata": {},
   "outputs": [
    {
     "name": "stdout",
     "output_type": "stream",
     "text": [
      "[Taichi] version 1.2.2, llvm 10.0.0, commit 608e4b57, win, python 3.10.0\n",
      "[Taichi] Starting on arch=x64\n"
     ]
    },
    {
     "data": {
      "text/plain": [
       "0.30018118023872375"
      ]
     },
     "execution_count": 22,
     "metadata": {},
     "output_type": "execute_result"
    }
   ],
   "source": [
    "import taichi as ti\n",
    "\n",
    "ti.init()\n",
    "\n",
    "@ti.kernel\n",
    "def strange_conv(a: ti.types.ndarray()) -> ti.f64:\n",
    "    x = a.shape[0]\n",
    "    y = a.shape[1]\n",
    "\n",
    "    t = 1.\n",
    "    ti.loop_config(serialize=True) \n",
    "    for j, i in ti.ndrange(x-3, y-5):\n",
    "        c = 1.5 * a[i+1, j+2] - a[i+5, j+3] * a[i, j] + 0.2 * a[i+4, j]\n",
    "        t = 0.2 * t + 0.8 * c\n",
    "\n",
    "    return t\n",
    "\n",
    "\n",
    "a = np.random.random((10000, 10000))\n",
    "strange_conv(a)"
   ]
  }
 ],
 "metadata": {
  "kernelspec": {
   "display_name": "Python 3.10.0 64-bit",
   "language": "python",
   "name": "python3"
  },
  "language_info": {
   "codemirror_mode": {
    "name": "ipython",
    "version": 3
   },
   "file_extension": ".py",
   "mimetype": "text/x-python",
   "name": "python",
   "nbconvert_exporter": "python",
   "pygments_lexer": "ipython3",
   "version": "3.10.0 (tags/v3.10.0:b494f59, Oct  4 2021, 19:00:18) [MSC v.1929 64 bit (AMD64)]"
  },
  "orig_nbformat": 4,
  "vscode": {
   "interpreter": {
    "hash": "c0626230337a9b30a7d84d7e98996ba80cc5c2394cbbb2a342d5cc76947e61f2"
   }
  }
 },
 "nbformat": 4,
 "nbformat_minor": 2
}
