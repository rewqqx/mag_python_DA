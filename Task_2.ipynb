{
  "cells": [
    {
      "cell_type": "markdown",
      "metadata": {
        "id": "4iCZqEbO9P8u"
      },
      "source": [
        "# Задание 2.\n",
        "\n",
        "**NB. Все упражнения ниже нужно делать без использования циклов Python в явном (`while`, `for`) и неявном виде (list comprehension, `map`, `reduce` и пр)**\n",
        "\n",
        "Задания по манипуляциям с массивами чаще всего решаются в одно/два выражения. "
      ]
    },
    {
      "cell_type": "code",
      "execution_count": 1,
      "metadata": {
        "colab": {
          "base_uri": "https://localhost:8080/"
        },
        "id": "PQwYQoVS9P8v",
        "outputId": "7cca461b-be82-42fa-ecd5-18333a7fcedc"
      },
      "outputs": [
        {
          "output_type": "execute_result",
          "data": {
            "text/plain": [
              "array([[25, 17, 68, ..., 70, 48, 85],\n",
              "       [31, 10, 25, ..., 78, 11, 29],\n",
              "       [68, 92, 61, ..., 26, 76, 78],\n",
              "       ...,\n",
              "       [79, 58, 55, ..., 29, 17, 49],\n",
              "       [94, 97,  0, ..., 30, 48, 98],\n",
              "       [71, 35, 52, ..., 96, 28, 60]])"
            ]
          },
          "metadata": {},
          "execution_count": 1
        }
      ],
      "source": [
        "%matplotlib inline\n",
        "\n",
        "import numpy as np\n",
        "import matplotlib.pyplot as plt\n",
        "import seaborn as sns\n",
        "sns.set_theme()\n",
        "\n",
        "A = np.random.randint(0, 100, size=(200, 50))\n",
        "A"
      ]
    },
    {
      "cell_type": "markdown",
      "metadata": {
        "id": "R4-qKWUH9P8w"
      },
      "source": [
        "# Задание 2.1 (2 балла)\n",
        "\n",
        "Сгенерируйте новый массив, в котором столбцы массива `A` переставлены в случайном порядке"
      ]
    },
    {
      "cell_type": "code",
      "execution_count": null,
      "metadata": {
        "id": "qzISdM6p9P8x",
        "outputId": "053f3e50-315f-4675-985f-996c175b9fda"
      },
      "outputs": [
        {
          "data": {
            "text/plain": [
              "array([[35, 26, 14, ..., 57, 13, 34],\n",
              "       [46, 44, 50, ..., 80, 93, 68],\n",
              "       [37, 97, 80, ..., 84, 55, 75],\n",
              "       ...,\n",
              "       [87, 19,  9, ...,  0,  8, 50],\n",
              "       [58, 34, 42, ..., 17, 12, 64],\n",
              "       [51, 73, 19, ..., 23, 82, 37]])"
            ]
          },
          "execution_count": 7,
          "metadata": {},
          "output_type": "execute_result"
        }
      ],
      "source": [
        "B = A.copy()\n",
        "np.random.shuffle(B.T)\n",
        "B"
      ]
    },
    {
      "cell_type": "markdown",
      "metadata": {
        "id": "OE0LoWZw9P8x"
      },
      "source": [
        "# Задание 2.2 (5 баллов)\n",
        "\n",
        "Сгенерируйте новый массив, который содержит только те строки массива `A`, в которых: \n",
        "- сумма элементов по четным столбцам (индексы $0, 2, \\ldots$) больше среднего значения (по всему массиву) суммы элементов по нечетным столбцам (индексы $1, 3, \\ldots$) "
      ]
    },
    {
      "cell_type": "code",
      "execution_count": null,
      "metadata": {
        "id": "fqUPjGKj9P8x",
        "outputId": "5ffffd32-4e24-49eb-93f9-88056cc24756"
      },
      "outputs": [
        {
          "data": {
            "text/plain": [
              "array([[34, 84, 97, ..., 80, 57, 76],\n",
              "       [80, 37, 77, ..., 56, 83, 70],\n",
              "       [89, 71, 85, ..., 30, 86, 19],\n",
              "       ...,\n",
              "       [ 5, 39, 48, ..., 12,  9,  6],\n",
              "       [98, 25, 67, ..., 49, 12, 35],\n",
              "       [99, 82, 73, ..., 78, 36, 12]])"
            ]
          },
          "execution_count": 8,
          "metadata": {},
          "output_type": "execute_result"
        }
      ],
      "source": [
        "idxs = np.where(np.sum(A[:, ::2], axis=1) > np.mean(A[:, 1::2].sum(axis=1)), 1, 0)\n",
        "A[np.where(idxs)[0]]"
      ]
    },
    {
      "cell_type": "markdown",
      "metadata": {
        "id": "NjfJkyAI9P8x"
      },
      "source": [
        "# Задача 2.3 (3 балла)\n",
        "\n",
        "Найдите индекс строки массива `A`, в которой разница между максимальным и минимальным элементом максимальна"
      ]
    },
    {
      "cell_type": "code",
      "execution_count": null,
      "metadata": {
        "id": "ojpgfk0N9P8y",
        "outputId": "574560b9-2910-4622-a9e9-808e0ba8863c"
      },
      "outputs": [
        {
          "data": {
            "text/plain": [
              "8"
            ]
          },
          "execution_count": 9,
          "metadata": {},
          "output_type": "execute_result"
        }
      ],
      "source": [
        "b = np.amax(A, axis=1) - np.amin(A, axis=1)\n",
        "np.where(b == np.amax(b))[0][0]"
      ]
    },
    {
      "cell_type": "markdown",
      "metadata": {
        "id": "sUXQINKI9P8y"
      },
      "source": [
        "# Задание 2.4 (7 баллов)\n",
        "\n",
        "Сгенерируйте массив той же размерности, что и `A`, но в котором каждый элемент заменен на его порядковый номер (начиная с 1) в отсортированном по возрастанию массиве из элементов `A`\n",
        "\n",
        "Если `A` выглядит так:\n",
        "$$\n",
        "\\begin{pmatrix}\n",
        "12 & 14\\\\\n",
        "1 & 2\n",
        "\\end{pmatrix}\n",
        "$$\n",
        "то результат должен быть\n",
        "$$\n",
        "\\begin{pmatrix}\n",
        "3 & 4\\\\\n",
        "1 & 2\n",
        "\\end{pmatrix}\n",
        "$$\n",
        "\n",
        "*Tip: рассмотрите возможность неоднократного применения [argsort()](https://numpy.org/doc/stable/reference/generated/numpy.ndarray.argsort.html)*"
      ]
    },
    {
      "cell_type": "code",
      "execution_count": null,
      "metadata": {
        "id": "7KkrA4pa9P8y",
        "outputId": "df0e9907-4897-4554-995d-abefb92d5dc8"
      },
      "outputs": [
        {
          "data": {
            "text/plain": [
              "array([[3106,  715, 8517, ..., 8610, 6558, 8526],\n",
              "       [3584, 8490, 9724, ..., 8020, 5834, 7635],\n",
              "       [8017, 3842, 7802, ..., 5755, 8352, 7032],\n",
              "       ...,\n",
              "       [9949, 8227, 7365, ..., 7866, 3712, 1283],\n",
              "       [3526, 8018, 2883, ..., 2520, 1209, 1522],\n",
              "       [1055, 5693,  430, ..., 1830, 5855, 9834]], dtype=int64)"
            ]
          },
          "execution_count": 10,
          "metadata": {},
          "output_type": "execute_result"
        }
      ],
      "source": [
        "C = A.copy()\n",
        "x = len(A)\n",
        "y = len(A[0])\n",
        "(np.argsort(np.argsort(C.reshape(x*y))) + 1).reshape(x,y)\n"
      ]
    },
    {
      "cell_type": "markdown",
      "metadata": {
        "id": "GUeoVW5_9P8y"
      },
      "source": [
        "# Задание 2.5 (2 балла)\n",
        "\n",
        "Примените $\\min-\\max$ - нормализацию к строкам массива `A`. То есть нужно получить новый массивы, в каждой строке которого максимальный элементы равен $1$, минимальный - $0$. "
      ]
    },
    {
      "cell_type": "code",
      "execution_count": null,
      "metadata": {
        "id": "OTqpFxK59P8z",
        "outputId": "5eaac670-e7e2-41c3-95eb-c624d6f7d6ee"
      },
      "outputs": [
        {
          "data": {
            "text/plain": [
              "array([[0.27659574, 0.0212766 , 0.86170213, ..., 0.87234043, 0.64893617,\n",
              "        0.86170213],\n",
              "       [0.34693878, 0.85714286, 0.98979592, ..., 0.81632653, 0.58163265,\n",
              "        0.7755102 ],\n",
              "       [0.81632653, 0.37755102, 0.78571429, ..., 0.57142857, 0.84693878,\n",
              "        0.71428571],\n",
              "       ...,\n",
              "       [1.        , 0.82828283, 0.73737374, ..., 0.78787879, 0.36363636,\n",
              "        0.12121212],\n",
              "       [0.33673469, 0.80612245, 0.2755102 , ..., 0.23469388, 0.10204082,\n",
              "        0.13265306],\n",
              "       [0.09278351, 0.56701031, 0.03092784, ..., 0.16494845, 0.57731959,\n",
              "        1.        ]])"
            ]
          },
          "execution_count": 11,
          "metadata": {},
          "output_type": "execute_result"
        }
      ],
      "source": [
        "x = len(A)\n",
        "D = A.copy()\n",
        "D = (A - np.amin(A, axis=1).reshape(x,1))/(np.amax(A, axis = 1) - np.amin(A, axis=1)).reshape(x,1)\n",
        "D"
      ]
    },
    {
      "cell_type": "markdown",
      "metadata": {
        "id": "2oapDQUa9P8z"
      },
      "source": [
        "# Задание 2.6 (2 балла)\n",
        "\n",
        "Сгенерируйте новый трехмерный массив, размерности $10 \\times 200 \\times 50$. Подмассивы по нулевой оси должны состоять из элементов `A`, умноженных на $1 - 10$ соответственно"
      ]
    },
    {
      "cell_type": "code",
      "execution_count": null,
      "metadata": {
        "id": "n8f9nL_U9P8z",
        "outputId": "bfa39c71-3cc5-45da-ec1c-dd76bb1e6677"
      },
      "outputs": [
        {
          "data": {
            "text/plain": [
              "array([[[ 30,   6,  85, ...,  86,  65,  85],\n",
              "        [ 34,  84,  97, ...,  80,  57,  76],\n",
              "        [ 80,  37,  77, ...,  56,  83,  70],\n",
              "        ...,\n",
              "        [ 99,  82,  73, ...,  78,  36,  12],\n",
              "        [ 34,  80,  28, ...,  24,  11,  14],\n",
              "        [ 10,  56,   4, ...,  17,  57,  98]],\n",
              "\n",
              "       [[ 60,  12, 170, ..., 172, 130, 170],\n",
              "        [ 68, 168, 194, ..., 160, 114, 152],\n",
              "        [160,  74, 154, ..., 112, 166, 140],\n",
              "        ...,\n",
              "        [198, 164, 146, ..., 156,  72,  24],\n",
              "        [ 68, 160,  56, ...,  48,  22,  28],\n",
              "        [ 20, 112,   8, ...,  34, 114, 196]],\n",
              "\n",
              "       [[ 90,  18, 255, ..., 258, 195, 255],\n",
              "        [102, 252, 291, ..., 240, 171, 228],\n",
              "        [240, 111, 231, ..., 168, 249, 210],\n",
              "        ...,\n",
              "        [297, 246, 219, ..., 234, 108,  36],\n",
              "        [102, 240,  84, ...,  72,  33,  42],\n",
              "        [ 30, 168,  12, ...,  51, 171, 294]],\n",
              "\n",
              "       ...,\n",
              "\n",
              "       [[240,  48, 680, ..., 688, 520, 680],\n",
              "        [272, 672, 776, ..., 640, 456, 608],\n",
              "        [640, 296, 616, ..., 448, 664, 560],\n",
              "        ...,\n",
              "        [792, 656, 584, ..., 624, 288,  96],\n",
              "        [272, 640, 224, ..., 192,  88, 112],\n",
              "        [ 80, 448,  32, ..., 136, 456, 784]],\n",
              "\n",
              "       [[270,  54, 765, ..., 774, 585, 765],\n",
              "        [306, 756, 873, ..., 720, 513, 684],\n",
              "        [720, 333, 693, ..., 504, 747, 630],\n",
              "        ...,\n",
              "        [891, 738, 657, ..., 702, 324, 108],\n",
              "        [306, 720, 252, ..., 216,  99, 126],\n",
              "        [ 90, 504,  36, ..., 153, 513, 882]],\n",
              "\n",
              "       [[300,  60, 850, ..., 860, 650, 850],\n",
              "        [340, 840, 970, ..., 800, 570, 760],\n",
              "        [800, 370, 770, ..., 560, 830, 700],\n",
              "        ...,\n",
              "        [990, 820, 730, ..., 780, 360, 120],\n",
              "        [340, 800, 280, ..., 240, 110, 140],\n",
              "        [100, 560,  40, ..., 170, 570, 980]]])"
            ]
          },
          "execution_count": 12,
          "metadata": {},
          "output_type": "execute_result"
        }
      ],
      "source": [
        "C = np.expand_dims(A, axis=0)\n",
        "C = np.concatenate([C, [A*2, A*3, A*4, A*5, A*6, A*7, A*8, A*9, A*10]])\n",
        "C"
      ]
    },
    {
      "cell_type": "markdown",
      "metadata": {
        "id": "qQ2wH20-9P8z"
      },
      "source": [
        "# Задание 2.7 (2 балла)\n",
        "\n",
        "Создайте новый массив, такой же размерности, как и `A`, в котором сначала сгруппированы четные столбцы `A`, потом  нечетные. Используйте [np.concat()](https://numpy.org/doc/stable/reference/generated/numpy.concatenate.html) "
      ]
    },
    {
      "cell_type": "code",
      "execution_count": null,
      "metadata": {
        "id": "1upnXY6f9P8z",
        "outputId": "7e511966-b816-4f30-8cd3-1411aa1bb83c"
      },
      "outputs": [
        {
          "data": {
            "text/plain": [
              "array([[30, 85, 66, ..., 73, 86, 85],\n",
              "       [34, 97, 60, ..., 45, 80, 76],\n",
              "       [80, 77, 67, ..., 87, 56, 70],\n",
              "       ...,\n",
              "       [99, 73, 56, ...,  2, 78, 12],\n",
              "       [34, 28, 99, ..., 50, 24, 14],\n",
              "       [10,  4, 53, ..., 12, 17, 98]])"
            ]
          },
          "execution_count": 13,
          "metadata": {},
          "output_type": "execute_result"
        }
      ],
      "source": [
        "C = np.concatenate((A.T[::2], A.T[1::2])).T\n",
        "C"
      ]
    },
    {
      "cell_type": "markdown",
      "metadata": {
        "id": "bG80vfHv9P80"
      },
      "source": [
        "# Задание 2.8 (2 балла)\n",
        "\n",
        "Посчитайте количество строк массива `A`, в который все элементы больше 5. Используйте [np.all()](https://numpy.org/doc/stable/reference/generated/numpy.all.html) "
      ]
    },
    {
      "cell_type": "code",
      "execution_count": null,
      "metadata": {
        "id": "FCs-y-Ku9P80",
        "outputId": "9f8c3a74-909d-45b1-e17b-59c03aea773a"
      },
      "outputs": [
        {
          "data": {
            "text/plain": [
              "2"
            ]
          },
          "execution_count": 14,
          "metadata": {},
          "output_type": "execute_result"
        }
      ],
      "source": [
        "np.sum(np.all(A>5, axis=1) == True)"
      ]
    },
    {
      "cell_type": "markdown",
      "metadata": {
        "id": "JIlWanQx9P80"
      },
      "source": [
        "# Задание 2.9 (2 балла)\n",
        "\n",
        "Поделите массив `A` горизонтально на 10 частей и создайте новый массив размерности $20 \\times 50$, который состоит из средних этих частей. Используйте [np.split()](https://numpy.org/doc/stable/reference/generated/numpy.split.html)"
      ]
    },
    {
      "cell_type": "code",
      "execution_count": null,
      "metadata": {
        "id": "JP9lIgZX9P80",
        "outputId": "318b6129-0dfd-458b-f9a1-ed308ef1d8f0"
      },
      "outputs": [
        {
          "data": {
            "text/plain": [
              "array([[45.5, 41.3, 52.5, 34.1, 51.1, 44.8, 47.7, 53.3, 44.8, 62.3, 55.7,\n",
              "        49.1, 50.2, 63.5, 62.1, 73.4, 38.9, 44.2, 27.2, 46.1, 46.3, 51.5,\n",
              "        43.5, 52.2, 56.8, 34.5, 46.1, 55.4, 36.9, 66.9, 55.9, 40.1, 54.2,\n",
              "        52.4, 22.8, 49.8, 59. , 58.1, 57.2, 64.2, 54. , 49.6, 50.1, 73.5,\n",
              "        52. , 63.2, 48.7, 50.9, 55.8, 42.9],\n",
              "       [41.8, 49.2, 47.3, 54.8, 51.2, 51.4, 53.9, 35.7, 54.3, 53.8, 56.4,\n",
              "        47.9, 44.5, 64.3, 49.4, 38.7, 57.5, 36. , 51.7, 41.4, 52. , 65. ,\n",
              "        55.2, 46.6, 27.2, 52. , 29. , 52.7, 45.6, 38.2, 44.1, 54.9, 56.2,\n",
              "        44.3, 58.8, 36.1, 48.7, 38.5, 44.7, 40.2, 42.4, 41.7, 52.1, 61.1,\n",
              "        37. , 40.5, 54. , 50.5, 43.1, 44.9],\n",
              "       [41.9, 61.6, 42.1, 38. , 49.7, 48.7, 52.5, 35.5, 63.4, 36.3, 49.4,\n",
              "        33.7, 42.9, 35.6, 35.9, 51.1, 49.5, 51.2, 60. , 57.5, 47.7, 49.7,\n",
              "        47.8, 43.6, 50.1, 41.7, 34.3, 62.8, 52. , 25.4, 52.9, 53.8, 58.8,\n",
              "        43.6, 44.8, 37.1, 60.2, 30.5, 54. , 43.6, 39.8, 61.9, 64.6, 60.7,\n",
              "        59.3, 34.3, 41.6, 66.3, 31.5, 51. ],\n",
              "       [46. , 48.4, 42.9, 40.7, 42.5, 43.8, 53. , 48.5, 56.5, 52.1, 50.1,\n",
              "        42.9, 29.1, 33.7, 47.6, 46.2, 46.6, 46.3, 47.1, 45.8, 42.5, 53.8,\n",
              "        62.5, 41.8, 60. , 57.5, 39.1, 39.5, 37.3, 32.9, 51.1, 53.2, 37.7,\n",
              "        44.1, 59.4, 47.7, 44.1, 59.5, 45.3, 39.8, 41.4, 54.7, 38.8, 58.5,\n",
              "        51.3, 65.3, 55.8, 48.5, 58.2, 38.8],\n",
              "       [58.4, 46.1, 59.3, 46.7, 52. , 52.5, 31.8, 46.3, 54.1, 51.3, 45.9,\n",
              "        54.5, 45.1, 40.3, 42.3, 62.6, 46.3, 35.1, 54.9, 67.5, 39.6, 69.9,\n",
              "        33.6, 58.4, 54.1, 32.2, 49.6, 58.5, 64.7, 44.1, 30.6, 56.1, 52.1,\n",
              "        23.9, 67.2, 53.8, 58.7, 23.6, 54.5, 45.3, 46.2, 50.7, 57.1, 62.7,\n",
              "        54.5, 57.1, 48.8, 39.6, 49.9, 40.1],\n",
              "       [55.8, 54.8, 54.3, 46.7, 26.4, 43.5, 59.8, 43.3, 40.5, 53.5, 64.3,\n",
              "        47. , 47.6, 46.1, 46.9, 56.5, 45.5, 49.2, 38.3, 46.2, 55.6, 46.4,\n",
              "        40.3, 42.1, 52.7, 69.1, 49.5, 50.5, 50.2, 68.1, 48. , 51.5, 57.1,\n",
              "        46.4, 39. , 44.9, 46.4, 45.9, 41. , 52.4, 43.6, 44. , 51.2, 43. ,\n",
              "        39.2, 56. , 45.7, 49.8, 37.6, 47.3],\n",
              "       [32.4, 58.2, 49.4, 37.3, 34.7, 44.9, 59.9, 33.3, 50.6, 48.5, 42.2,\n",
              "        52.3, 37.1, 52.7, 34.2, 43.8, 52.6, 61.9, 36.8, 46.8, 29.5, 49.9,\n",
              "        63.6, 37.8, 61. , 54.1, 47. , 49.2, 56.9, 50.9, 49.9, 37.7, 40.7,\n",
              "        37. , 51.2, 49.9, 45.3, 52.3, 57.5, 39.3, 48.8, 52.4, 56.6, 56.5,\n",
              "        46.2, 50.2, 70.9, 48.5, 44.9, 70.4],\n",
              "       [71.9, 44.9, 53.4, 46.4, 60.5, 40.1, 57.2, 52. , 40.9, 52.1, 39.5,\n",
              "        37.6, 53.2, 55.2, 57.1, 48.5, 48.6, 44.3, 48.4, 64.6, 42. , 42.7,\n",
              "        51.8, 50.6, 57.4, 40.3, 36.9, 39.6, 58.8, 46.7, 46. , 63.3, 61.2,\n",
              "        53.6, 57.6, 51. , 54.1, 42. , 62.3, 62.8, 46. , 45.6, 57.6, 55.9,\n",
              "        41.9, 35.7, 47.4, 42.5, 49. , 50.7],\n",
              "       [54.1, 56.8, 57.8, 51.6, 34.2, 61.3, 39. , 62.1, 60.3, 36.5, 59.7,\n",
              "        50.6, 52.8, 37.3, 45.9, 63.3, 49.7, 38.7, 44.6, 64.5, 38.5, 54.3,\n",
              "        39.9, 48.2, 37.3, 40.3, 42. , 67.8, 56.5, 43. , 43.9, 64.1, 56.8,\n",
              "        49.4, 48.3, 41.8, 40.8, 43.2, 55.8, 44.6, 61.6, 46.4, 51.6, 56.3,\n",
              "        43. , 59.4, 56.2, 57.2, 39.1, 48.9],\n",
              "       [60.3, 49.4, 46.3, 60.4, 43.3, 51.9, 76.1, 52.7, 46.6, 43.7, 56.8,\n",
              "        46. , 36.3, 54.1, 42. , 55.7, 63.2, 39.2, 48.3, 51.6, 51.5, 36.2,\n",
              "        43.7, 47.8, 48.3, 56.6, 42.3, 56.8, 45.5, 56.5, 40. , 42.3, 53.6,\n",
              "        56. , 36.3, 56.1, 41.6, 46.7, 47.1, 58.2, 47.1, 34.5, 55.4, 34.7,\n",
              "        67.9, 57.7, 52.6, 57.1, 44.5, 59. ],\n",
              "       [37.8, 42.6, 43.8, 43.3, 50.2, 41.6, 50.2, 34.6, 56.8, 42.3, 31.5,\n",
              "        41.4, 59. , 50.4, 55.8, 50.8, 56.7, 52.6, 40. , 58.2, 45. , 63.1,\n",
              "        61.6, 48. , 63.8, 52.3, 61.8, 48.9, 52.9, 61.3, 49.3, 41.2, 74.5,\n",
              "        34.2, 50.1, 49.2, 52.1, 50.8, 47.8, 41.3, 54. , 46.4, 36.5, 43.5,\n",
              "        56.6, 60.5, 55.4, 50.8, 42.4, 35.2],\n",
              "       [62.4, 58.2, 46.1, 43.2, 38.5, 50. , 58.2, 41.6, 37.6, 55.9, 61.2,\n",
              "        45.5, 25.7, 69.7, 47.7, 56.8, 56.3, 51.6, 52.3, 64.8, 53.6, 61.9,\n",
              "        67.2, 41.7, 51.1, 40.6, 46. , 47.2, 40. , 74.5, 29. , 47.8, 41.9,\n",
              "        64.9, 40. , 43.7, 40.2, 49.2, 45. , 52.9, 58.1, 53.1, 57. , 39.8,\n",
              "        53.2, 53.3, 49.5, 53.8, 50.1, 52.4],\n",
              "       [65.8, 45.9, 45.2, 50. , 48.6, 68.2, 55.4, 51.7, 61.5, 42. , 40.9,\n",
              "        35.9, 35.7, 46.5, 47. , 50.4, 56.3, 41.7, 52. , 44.9, 30.5, 49.6,\n",
              "        34.3, 49.6, 44.1, 68.2, 49.7, 68.6, 36.8, 42.8, 54.3, 55.8, 38. ,\n",
              "        34.9, 65.8, 47.7, 43. , 54.4, 48.4, 46.7, 60.2, 63.7, 38.7, 60.6,\n",
              "        51.6, 52.2, 42.4, 55.8, 56.1, 39.4],\n",
              "       [44.3, 61.6, 43. , 54.8, 37. , 53.4, 36.3, 35.1, 48.2, 66.9, 51.5,\n",
              "        44.9, 47.5, 53.9, 34.9, 41.4, 41.5, 63.1, 31.4, 57.6, 53.4, 56.7,\n",
              "        64.5, 44.4, 50.1, 59.8, 48.3, 45.7, 47.3, 51.9, 51.8, 53. , 55. ,\n",
              "        42.9, 42.4, 34.9, 48.4, 54.8, 35.4, 56.8, 41.2, 59.6, 42.7, 41.8,\n",
              "        52.3, 76.1, 42.4, 66.2, 51.2, 47.2],\n",
              "       [44.4, 45.1, 46.2, 38.7, 67.4, 47. , 45.4, 37.6, 46.8, 53.1, 47.1,\n",
              "        35.7, 47.6, 49.4, 59.7, 48. , 58.3, 31.8, 58.7, 53.9, 46.4, 62.8,\n",
              "        43.6, 41.7, 49.9, 43.8, 33.2, 51.4, 41.1, 35.9, 30.4, 40.8, 58.9,\n",
              "        42.8, 49.7, 51.7, 51.2, 38.9, 54. , 67.3, 38. , 48.8, 42.4, 54.2,\n",
              "        48.5, 49.4, 42.3, 35. , 46.4, 47. ],\n",
              "       [54.3, 43.1, 56.9, 62.8, 52.8, 62.8, 42.6, 40.8, 32.4, 59.4, 47.9,\n",
              "        43.9, 61.3, 48.2, 51.1, 48.9, 44.4, 37.2, 53. , 54.8, 50.9, 51.9,\n",
              "        53.3, 54.7, 60.8, 31.9, 58.1, 42. , 45.4, 50.5, 40.9, 41.5, 47.5,\n",
              "        43.7, 62.5, 54.6, 53.6, 52.5, 38.6, 51. , 44.1, 53.4, 38.9, 38.3,\n",
              "        66.4, 52.2, 55.6, 47.5, 43.9, 49.7],\n",
              "       [46.1, 35.9, 37.3, 44.4, 42.1, 47.2, 47.8, 36.2, 56.5, 43. , 50.2,\n",
              "        44.4, 47.3, 62.3, 62.6, 44.2, 46.6, 55.5, 52.7, 33.7, 48.2, 54.5,\n",
              "        40.2, 34.6, 46.6, 38.2, 50. , 67.2, 47.1, 46.6, 34. , 58.3, 62.5,\n",
              "        49.3, 59.3, 51.9, 45.7, 54.5, 45.2, 48.9, 46.4, 54.9, 48.6, 42.7,\n",
              "        46.7, 50.4, 49.5, 41.3, 33.1, 49.8],\n",
              "       [52.7, 58.2, 42.5, 38.1, 50.8, 52.6, 56.2, 50. , 52.2, 39.8, 61.1,\n",
              "        43.7, 63.1, 42. , 54.7, 46. , 36. , 54.9, 49.3, 38. , 52. , 58.2,\n",
              "        43.5, 40.2, 62. , 56.9, 48.9, 65. , 48.3, 63. , 40.3, 44.6, 46.3,\n",
              "        59.1, 44.4, 56.6, 69. , 46.6, 61.8, 50.9, 34.9, 55.2, 63.2, 52.6,\n",
              "        34.3, 33.9, 44.5, 60.7, 43. , 56.5],\n",
              "       [60.7, 51.1, 46. , 47.9, 63.3, 52. , 47. , 44.4, 45.6, 40.4, 47.9,\n",
              "        58.9, 52.8, 49.3, 69.1, 43. , 49.7, 37.8, 63.7, 51.9, 45.5, 60.5,\n",
              "        35.1, 57. , 46.2, 66.1, 45.3, 32.7, 33.6, 53.5, 66.8, 61.3, 31.2,\n",
              "        56.3, 52.3, 56.9, 48.1, 29.4, 64.2, 55. , 57.3, 43. , 48.3, 29.4,\n",
              "        55.4, 46.3, 31.3, 44.8, 49.1, 42.7],\n",
              "       [49.1, 37. , 67.2, 64.3, 23.2, 47.1, 46. , 49.9, 45.1, 60.6, 58.5,\n",
              "        51.1, 59.9, 55. , 52. , 35.7, 24.2, 48.8, 50.2, 41.5, 50.3, 37.7,\n",
              "        50.9, 35.2, 56.8, 61.8, 65.1, 57.1, 55.8, 39.3, 68.1, 53.8, 56.3,\n",
              "        49.9, 45.8, 62.3, 58.7, 45.3, 45.8, 46.7, 57.9, 50.9, 33.9, 47.8,\n",
              "        24.9, 37.1, 31.9, 48.5, 38.6, 49. ]])"
            ]
          },
          "execution_count": 15,
          "metadata": {},
          "output_type": "execute_result"
        }
      ],
      "source": [
        "np.mean(np.array(np.split(A, 10)).reshape(1000, 10), axis=1).reshape(20,50)"
      ]
    },
    {
      "cell_type": "markdown",
      "metadata": {
        "id": "t-Qfmws79P80"
      },
      "source": [
        "# Задание 2.10 (4 балла)\n",
        "\n",
        "\"Разверните\" массив `A` в одномерный массив. Оставьте в нём только уникальные элементы в том же порядке, в котором они встречаются в массиве. Используйте [np.unique()](https://numpy.org/doc/stable/reference/generated/numpy.unique.html)"
      ]
    },
    {
      "cell_type": "code",
      "execution_count": null,
      "metadata": {
        "id": "JqtiEFH99P80",
        "outputId": "ac24a366-a467-4412-a8e3-4181d2b817b9"
      },
      "outputs": [
        {
          "data": {
            "text/plain": [
              "array([30,  6, 85, 41, 66, 49, 58, 45, 15, 60, 23, 22, 24, 14, 26, 74, 77,\n",
              "       72, 87, 33, 98, 51, 61, 12, 35, 13, 57, 78, 71, 56, 31,  4,  5, 50,\n",
              "       68,  9, 34, 29, 47, 73, 86, 65, 84, 97, 17, 64, 38,  0, 44, 81, 90,\n",
              "       19, 92, 46, 93, 80, 25, 63, 53, 76, 37, 67, 36, 79, 95, 27, 69, 54,\n",
              "       55, 75, 83, 70, 48, 89, 94, 52, 59, 99, 16, 88, 43, 18, 32,  8, 91,\n",
              "        3, 10, 82, 39, 96, 20, 62, 11,  2,  1,  7, 42, 40, 21, 28])"
            ]
          },
          "execution_count": 18,
          "metadata": {},
          "output_type": "execute_result"
        }
      ],
      "source": [
        "idxs = np.unique(A.ravel(), return_index=True)[1]\n",
        "A.ravel()[np.sort(idxs)]"
      ]
    },
    {
      "cell_type": "markdown",
      "metadata": {
        "id": "oQft5FaW9P81"
      },
      "source": [
        "# Задание 2.11 (3 балла)\n",
        "\n",
        "Создайте одномерный массив размерности $200$, в котором каждый элемент - евклидово расстояние между соответствующей строкой `A` и \"средней\" строкой `A`"
      ]
    },
    {
      "cell_type": "code",
      "execution_count": null,
      "metadata": {
        "id": "8kONVv_J9P81",
        "outputId": "3598b13c-d841-441f-b201-3684c35b779e"
      },
      "outputs": [
        {
          "data": {
            "text/plain": [
              "array([184.4298492 , 197.78490659, 199.13829184, 216.43659412,\n",
              "       201.96801548, 196.66689929, 204.83214903, 211.42672318,\n",
              "       191.38941788, 209.8370541 , 194.34543801, 189.43742839,\n",
              "       210.43884925, 199.73006603, 194.25457337, 199.62103916,\n",
              "       210.29443472, 227.22889181, 203.68507377, 205.66231856,\n",
              "       192.25992634, 199.77447103, 206.12578508, 204.97438688,\n",
              "       204.17641704, 200.01719745, 206.73787576, 204.00350309,\n",
              "       222.50813305, 202.84040346, 209.88753959, 191.87641667,\n",
              "       205.90201377, 183.03499467, 214.90618715, 209.14019048,\n",
              "       213.45912788, 221.22689546, 190.59763712, 226.42621155,\n",
              "       193.8990956 , 211.58272442, 207.09055815, 213.07925585,\n",
              "       218.32757333, 222.08795392, 202.20605647, 206.11586372,\n",
              "       189.82583932, 186.83393502, 213.83792759, 185.62496943,\n",
              "       200.56831573, 208.2268217 , 212.66186606, 210.05351526,\n",
              "       223.71441454, 190.22462847, 225.35083598, 200.49057154,\n",
              "       206.31347332, 182.61352435, 199.74128085, 221.77957362,\n",
              "       209.2518083 , 210.72757123, 218.20153362, 183.92416719,\n",
              "       208.40575634, 208.17590945, 170.54796767, 195.17668732,\n",
              "       213.131507  , 200.62514617, 201.84719288, 218.21363219,\n",
              "       211.98959709, 210.66252461, 175.96459665, 197.56451927,\n",
              "       198.93342925, 183.25411121, 216.13752399, 184.640297  ,\n",
              "       210.04466019, 199.02429318, 207.94049455, 208.97262805,\n",
              "       179.38062681, 224.52053197, 208.0978118 , 232.58226346,\n",
              "       219.46776364, 195.68975261, 214.55309197, 194.6215026 ,\n",
              "       196.90967288, 203.66167846, 208.19841324, 196.18577745,\n",
              "       199.32327831, 202.23785322, 196.10433263, 202.13532416,\n",
              "       194.77453446, 200.24781965, 198.50924229, 175.92884719,\n",
              "       211.83528808, 199.50242925, 195.67365504, 218.87466568,\n",
              "       216.29447352, 221.97515463, 203.09106153, 216.94496831,\n",
              "       209.0896202 , 214.9890678 , 206.30959569, 187.28859889,\n",
              "       186.52624286, 208.82001646, 215.6265273 , 184.72595723,\n",
              "       214.77886133, 206.23665842, 227.31988315, 201.64438816,\n",
              "       208.8293305 , 190.25419647, 200.97745962, 218.10994768,\n",
              "       217.10172564, 189.64717049, 213.58026425, 216.76420201,\n",
              "       213.67000088, 195.28691527, 187.57129118, 205.77363601,\n",
              "       176.93258398, 212.61135735, 211.51271658, 196.36552466,\n",
              "       183.35146379, 205.30175176, 195.38229008, 201.13142289,\n",
              "       206.26121612, 200.09677477, 217.62522665, 185.25018023,\n",
              "       202.25461497, 199.25340468, 201.12853919, 206.81148245,\n",
              "       194.88696538, 201.3690127 , 195.95267101, 212.48157397,\n",
              "       221.11146346, 196.47612902, 174.66106972, 201.54470788,\n",
              "       216.92491622, 234.69188157, 203.94376498, 196.14586224,\n",
              "       192.62533394, 197.6702539 , 192.73481594, 218.79693616,\n",
              "       202.12020996, 201.29560173, 225.59742746, 235.18088629,\n",
              "       188.9153495 , 207.191528  , 208.9797102 , 187.44767076,\n",
              "       194.44528607, 194.11831257, 222.67078676, 213.53730184,\n",
              "       219.9695417 , 217.27289126, 202.10093833, 208.48136434,\n",
              "       195.14927434, 206.66879125, 214.908537  , 209.5373935 ,\n",
              "       198.46258911, 206.5169467 , 195.62095817, 194.5297902 ,\n",
              "       196.76623002, 213.53779355, 186.36726986, 210.25422534])"
            ]
          },
          "execution_count": 24,
          "metadata": {},
          "output_type": "execute_result"
        }
      ],
      "source": [
        "C = np.sqrt(np.sum(np.square(A - np.mean(A, axis=0)), axis=1))\n",
        "C"
      ]
    },
    {
      "cell_type": "markdown",
      "metadata": {
        "id": "mZtslSbg9P81"
      },
      "source": [
        "# Задание 2.12 (2 балла)\n",
        "\n",
        "Создайте новый массив, который состоит из элементов `A`, измененных по следующим правилам:\n",
        "- если элемент меньше $50$, то он умножается на $2$\n",
        "- в противном случае он умножается на $3$\n",
        "\n",
        "Используйте [np.where()](https://numpy.org/doc/stable/reference/generated/numpy.where.html)"
      ]
    },
    {
      "cell_type": "code",
      "execution_count": null,
      "metadata": {
        "id": "Ix_Qm3HP9P81",
        "outputId": "34e4463d-1d9f-48ce-eedb-88292dec032a"
      },
      "outputs": [
        {
          "data": {
            "text/plain": [
              "array([[ 60,  12, 255, ..., 258, 195, 255],\n",
              "       [ 68, 252, 291, ..., 240, 171, 228],\n",
              "       [240,  74, 231, ..., 168, 249, 210],\n",
              "       ...,\n",
              "       [297, 246, 219, ..., 234,  72,  24],\n",
              "       [ 68, 240,  56, ...,  48,  22,  28],\n",
              "       [ 20, 168,   8, ...,  34, 171, 294]])"
            ]
          },
          "execution_count": 25,
          "metadata": {},
          "output_type": "execute_result"
        }
      ],
      "source": [
        "C = A.copy()\n",
        "np.where(C<50, C*2, C*3)"
      ]
    },
    {
      "cell_type": "markdown",
      "metadata": {
        "id": "NFgVHD0e9P81"
      },
      "source": [
        "# Задание 2.13 (7 баллов)\n",
        "\n",
        "Разверните массив `A` в одномерный массив. Создайте три новых массива, подсчитав скользящие средние по окнам $3$, $5$, $10$. Найдите сумму этих массивов, выровнив из размерности нулями справа\n",
        "\n",
        "*Tip: реализуйте функцию, которая считает скользящее среднее. Используйте [np.cumsum()](https://numpy.org/doc/stable/reference/generated/numpy.cumsum.html) или [np.convolve()](https://numpy.org/doc/stable/reference/generated/numpy.convolve.html)*"
      ]
    },
    {
      "cell_type": "code",
      "execution_count": null,
      "metadata": {
        "id": "dvbCPgAM9P81",
        "outputId": "1bb95de8-dd72-4445-8120-127a02801bd1"
      },
      "outputs": [
        {
          "name": "stdout",
          "output_type": "stream",
          "text": [
            "[131.43333333 138.2        170.2        ...  91.26666667  52.66666667\n",
            "  57.33333333]\n"
          ]
        }
      ],
      "source": [
        "C = A.copy()\n",
        "C = C.reshape(200*50)\n",
        "\n",
        "def mov_avg(arr, n):\n",
        "    res = np.cumsum(arr, dtype=float)\n",
        "    res[n:] = res[n:] - res[:-n]\n",
        "    return res[n-1:]/n\n",
        "\n",
        "print(mov_avg(C,3) + np.append(mov_avg(C,5), [0,0]) + np.append(mov_avg(C,10), [0,0,0,0,0,0,0]))"
      ]
    },
    {
      "cell_type": "markdown",
      "metadata": {
        "id": "fuWChBSH9P81"
      },
      "source": [
        "# Задание 2.14 (8 баллов)\n",
        "\n",
        "Постройте график функции $$f(x) = (5  \\sin(2x) - \\cos^2(x) - 1 + |x^3| - x^2) / (x^2 + 1)$$  \n",
        "\n",
        "и производной от этой функции.  Найдите минимум с помощью `scipy` и обозначьте его на графике. На этой же оси постройте графики скользящего среднего этой функции с окном $1$, $2$, $5$."
      ]
    },
    {
      "cell_type": "code",
      "execution_count": null,
      "metadata": {
        "id": "dURImzKy9P82",
        "outputId": "0a50ed31-4e56-400a-fbbe-29d6ff4eaf21"
      },
      "outputs": [
        {
          "data": {
            "image/png": "[encoded data removed]",
            "text/plain": [
              "<Figure size 800x500 with 1 Axes>"
            ]
          },
          "metadata": {},
          "output_type": "display_data"
        }
      ],
      "source": [
        "import scipy\n",
        "\n",
        "def f(x):\n",
        "    return (5*np.sin(2*x) - (np.cos(x))**2 - 1 + abs(x**3) - x**2)/(x**2+1)\n",
        "\n",
        "x = np.linspace(-10, 10, 100)\n",
        "\n",
        "fig, ax=plt.subplots(figsize=(8, 5))\n",
        "\n",
        "f_diff = np.append(np.diff(f(x))/0.2, 0)\n",
        "\n",
        "def mov_avg(arr, n):\n",
        "    res = np.cumsum(arr, dtype=float)\n",
        "    res[n:] = res[n:] - res[:-n]\n",
        "    return res[n-1:]/n\n",
        "avg_1 = mov_avg(f(x), 1)\n",
        "avg_2 = mov_avg(f(x), 2)\n",
        "avg_5 = mov_avg(f(x), 5)\n",
        "# print(avg_1)\n",
        "avg_2 = np.insert(avg_2, 0, 0)\n",
        "avg_5 = np.insert(avg_5, 0, [0,0])\n",
        "avg_5 = np.append(avg_5, [0,0])\n",
        "# np.append(avg_2, 0)\n",
        "ax.plot(x, f(x), label='f')\n",
        "ax.plot(x, avg_1, label='Скользящее среднее с окном 1')\n",
        "ax.plot(x, avg_2, label='Скользящее среднее с окном 2')\n",
        "ax.plot(x, avg_5, label='Скользящее среднее с окном 5')\n",
        "ax.plot(x, f_diff, label='Производная f')\n",
        "ax.scatter(scipy.optimize.golden(f, full_output=True)[0], scipy.optimize.golden(f, full_output=True)[1])\n",
        "plt.legend(loc=4)\n",
        "plt.show()\n"
      ]
    },
    {
      "cell_type": "markdown",
      "metadata": {
        "id": "PS8WEZC59P82"
      },
      "source": [
        "# Задание 2.15 (10 баллов)\n",
        "\n",
        "Есть следующий алгоритм семплинирования, на вход функции подается вектор из целых положительных чисел и число семплов."
      ]
    },
    {
      "cell_type": "code",
      "execution_count": null,
      "metadata": {
        "id": "P_jkgYX49P82",
        "outputId": "95ae9d91-14c4-484e-f1c1-28242892c8f1"
      },
      "outputs": [
        {
          "data": {
            "text/plain": [
              "[0, 3, 0, 0, 4]"
            ]
          },
          "execution_count": 41,
          "metadata": {},
          "output_type": "execute_result"
        }
      ],
      "source": [
        "from typing import List \n",
        "\n",
        "def sample(x: List[int], c: int) -> List[int]:\n",
        "    assert len(x) > 0\n",
        "    \n",
        "    s = np.sum(x)\n",
        "    res = []\n",
        "    for _ in range(c):\n",
        "        val = s * np.random.random()\n",
        "        cur, idx = 0, 0        \n",
        "        while cur + x[idx] <= val:\n",
        "            cur += x[idx]\n",
        "            idx += 1\n",
        "            \n",
        "        res.append(idx)\n",
        "    return res\n",
        "\n",
        "            \n",
        "sample([50, 3, 1, 7, 20], 5)   "
      ]
    },
    {
      "cell_type": "markdown",
      "metadata": {
        "id": "MR-RtA2P9P82"
      },
      "source": [
        "Реализуйте данный алгоритм более оптимальным способом на массивах `numpy`, без использования циклов. Проверьте корректность и идентичность алгоритмов семплирования с помощью статистических тестов."
      ]
    },
    {
      "cell_type": "code",
      "execution_count": null,
      "metadata": {
        "id": "yLNBOeqm9P82",
        "outputId": "a180b4c7-a5c6-4d10-a830-8c3ea3fffa8d"
      },
      "outputs": [
        {
          "data": {
            "text/plain": [
              "array([4, 0, 4, 0, 0], dtype=int64)"
            ]
          },
          "execution_count": 42,
          "metadata": {},
          "output_type": "execute_result"
        }
      ],
      "source": [
        "def sample_np(x: np.ndarray, c: int) -> np.ndarray:\n",
        "    assert len(x) > 0\n",
        "    \n",
        "    s = np.sum(x)\n",
        "    val = s * np.random.random(size=c)\n",
        "    idx = np.searchsorted(np.cumsum(x), val)\n",
        "    return idx\n",
        "\n",
        "sample_np(np.array([50, 3, 1, 7, 20]), 5)"
      ]
    },
    {
      "cell_type": "code",
      "execution_count": null,
      "metadata": {
        "id": "74ZgpQ2B9P82",
        "outputId": "6aa18e05-2214-4e7a-d3ea-a14f8bbebb6c"
      },
      "outputs": [
        {
          "data": {
            "text/plain": [
              "KstestResult(statistic=0.032, pvalue=0.6854967337920594, statistic_location=2, statistic_sign=-1)"
            ]
          },
          "execution_count": 73,
          "metadata": {},
          "output_type": "execute_result"
        }
      ],
      "source": [
        "from scipy import stats\n",
        "\n",
        "test_1 = sample([50, 3, 1, 7, 20], 1000)\n",
        "test_2 = sample_np(np.array([50, 3, 1, 7, 20]), 1000)\n",
        "stats.ks_2samp(test_1, test_2)"
      ]
    },
    {
      "cell_type": "markdown",
      "metadata": {
        "id": "E1_z736S9P83"
      },
      "source": [
        "# Задание 2.16 (5 баллов)\n",
        "\n",
        "Есть следующий алгоритм \"случайного блуждания\""
      ]
    },
    {
      "cell_type": "code",
      "execution_count": null,
      "metadata": {
        "id": "tkQn_pNN9P83",
        "outputId": "c247c8c6-b478-4286-ed04-6c10163fcad5"
      },
      "outputs": [
        {
          "data": {
            "text/plain": [
              "2183"
            ]
          },
          "execution_count": 74,
          "metadata": {},
          "output_type": "execute_result"
        }
      ],
      "source": [
        "import random \n",
        "\n",
        "def walk(n: int):\n",
        "    cur_position = 0\n",
        "    for i in range(n):\n",
        "        cur_position += random.choice([-3, -1, 0, 2, 3])\n",
        "\n",
        "    return cur_position\n",
        "\n",
        "walk(10_000)"
      ]
    },
    {
      "cell_type": "markdown",
      "metadata": {
        "id": "FnHfCyPj9P83"
      },
      "source": [
        "Реализуйте более эффективную версию с помощью `numpy`, сравните производительность (используя, например, magic `timeit`). Воспользовавшись [kdeplot()](https://seaborn.pydata.org/generated/seaborn.kdeplot.html) или аналогами, постройте график распределения значений `walk(10_000)` на каком-то разумном числе запусков. "
      ]
    },
    {
      "cell_type": "code",
      "execution_count": null,
      "metadata": {
        "id": "AaB0I2dK9P83",
        "outputId": "8a8ca813-4018-4fce-b3bf-a4da8c6f1f42"
      },
      "outputs": [
        {
          "name": "stdout",
          "output_type": "stream",
          "text": [
            "238 µs ± 5.93 µs per loop (mean ± std. dev. of 7 runs, 1,000 loops each)\n",
            "4.09 ms ± 184 µs per loop (mean ± std. dev. of 7 runs, 100 loops each)\n"
          ]
        }
      ],
      "source": [
        "def walk_np(n: int):\n",
        "    arr = np.array([-3, -1, 0, 2, 3])\n",
        "    pos_arr = np.random.choice(5, n)\n",
        "    return np.sum(np.choose(pos_arr,arr))\n",
        "\n",
        "walk_np(10_000)\n",
        "%timeit walk_np(10_000)\n",
        "%timeit walk(10_000)"
      ]
    },
    {
      "cell_type": "code",
      "execution_count": null,
      "metadata": {
        "id": "bquATHxh9P83",
        "outputId": "45b5a265-e627-4757-a935-211e5b17a85a"
      },
      "outputs": [
        {
          "data": {
            "image/png": "[encoded data removed]",
            "text/plain": [
              "<Figure size 640x480 with 1 Axes>"
            ]
          },
          "metadata": {},
          "output_type": "display_data"
        }
      ],
      "source": [
        "tmp_1 = np.array([])\n",
        "tmp_2 = np.array([])\n",
        "for i in range(800):\n",
        "    tmp_1 = np.append(tmp_1, walk_np(10_000))\n",
        "    tmp_2 = np.append(tmp_2, walk(10_000))\n",
        "   \n",
        "sns.kdeplot(tmp_1, label='walk_np')\n",
        "sns.kdeplot(tmp_2, label='walk')\n",
        "\n",
        "plt.legend()\n",
        "plt.show()"
      ]
    },
    {
      "cell_type": "markdown",
      "metadata": {
        "id": "P_e-mqL39P83"
      },
      "source": [
        "# Задание 2.17 (5 баллов)\n",
        "\n",
        "Имеется функция, которая проделывает достаточно странные манипуляции с массивом `numpy`"
      ]
    },
    {
      "cell_type": "code",
      "execution_count": 2,
      "metadata": {
        "colab": {
          "base_uri": "https://localhost:8080/"
        },
        "id": "7dM5eKnq9P83",
        "outputId": "677d4aec-40af-444f-b884-51359f090bb9"
      },
      "outputs": [
        {
          "output_type": "execute_result",
          "data": {
            "text/plain": [
              "0.3322398531195494"
            ]
          },
          "metadata": {},
          "execution_count": 2
        }
      ],
      "source": [
        "import numpy.typing as npt\n",
        "\n",
        "def strange_conv(a: npt.NDArray[np.float64]) -> np.float64:\n",
        "    x = a.shape[0]\n",
        "    y = a.shape[1]\n",
        "    t = 1.\n",
        "    for y in range(y - 5):\n",
        "        for x in range(x - 3): \n",
        "            c = 1.5 * a[y+1, x+2] - a[y+5, x+3] * a[y, x] + 0.2 * a[y+4, x]\n",
        "            t = 0.2 * t + 0.8 * c\n",
        "    return t\n",
        "\n",
        "\n",
        "a = np.random.random((10000, 10000))\n",
        "strange_conv(a)\n"
      ]
    },
    {
      "cell_type": "markdown",
      "metadata": {
        "id": "lGDNmsH89P84"
      },
      "source": [
        "Оптимизируйте данную функцию с помощью (2 на выбор):\n",
        "- [Numba](https://numba.pydata.org)\n",
        "- `Cython` (+5 баллов)\n",
        "- [Taichi](https://github.com/taichi-dev/taichi) (+5 баллов)\n",
        "- `Pythran `[[1]](https://pythran.readthedocs.io/en/latest/), [[2]](https://serge-sans-paille.github.io/pythran-stories/pythran-tutorial.html) (+2 балла)\n",
        "\n",
        "Сравните производительность."
      ]
    },
    {
      "cell_type": "code",
      "execution_count": 3,
      "metadata": {
        "id": "27izGyrG9P84"
      },
      "outputs": [],
      "source": [
        "%load_ext cython"
      ]
    },
    {
      "cell_type": "code",
      "execution_count": 4,
      "metadata": {
        "id": "fUkywHIq9P84"
      },
      "outputs": [],
      "source": [
        "%%cython\n",
        "\n",
        "cimport cython\n",
        "cimport numpy as np\n",
        "np.import_array()\n",
        "\n",
        "ctypedef np.float64_t DTYPE_f\n",
        "\n",
        "@cython.boundscheck(False)\n",
        "@cython.wraparound(False) \n",
        "def strange_conv_c(DTYPE_f[:, :] a):\n",
        "    cdef Py_ssize_t x = a.shape[0]\n",
        "    cdef Py_ssize_t y = a.shape[1]\n",
        "\n",
        "    cdef DTYPE_f t = 1.\n",
        "    cdef DTYPE_f c\n",
        "    for y in range(y - 5):\n",
        "        for x in range(x - 3):\n",
        "            c = 1.5 * a[y+1, x+2] - a[y+5, x+3] * a[y, x] + 0.2 * a[y+4, x]\n",
        "            t = 0.2 * t + 0.8 * c\n",
        "            \n",
        "    return t\n"
      ]
    },
    {
      "cell_type": "code",
      "source": [
        "strange_conv_c(a)"
      ],
      "metadata": {
        "colab": {
          "base_uri": "https://localhost:8080/"
        },
        "id": "Ne1EmN1R-eyF",
        "outputId": "a9910f12-4000-4a40-ac97-72381856c42c"
      },
      "execution_count": 5,
      "outputs": [
        {
          "output_type": "execute_result",
          "data": {
            "text/plain": [
              "0.3322398531195494"
            ]
          },
          "metadata": {},
          "execution_count": 5
        }
      ]
    },
    {
      "cell_type": "code",
      "execution_count": 8,
      "metadata": {
        "colab": {
          "base_uri": "https://localhost:8080/"
        },
        "id": "zpOcYc_19P84",
        "outputId": "8a202b07-b51c-4ad1-ac1c-7b3131a9bdd6"
      },
      "outputs": [
        {
          "output_type": "stream",
          "name": "stdout",
          "text": [
            "[Taichi] Starting on arch=x64\n"
          ]
        },
        {
          "output_type": "execute_result",
          "data": {
            "text/plain": [
              "0.33223986243667475"
            ]
          },
          "metadata": {},
          "execution_count": 8
        }
      ],
      "source": [
        "import taichi as ti\n",
        "\n",
        "ti.init()\n",
        "\n",
        "@ti.kernel\n",
        "def strange_conv_ti(a: ti.types.ndarray()) -> ti.f64:\n",
        "    x = ti.u16(a.shape[0]) - 3\n",
        "    y = ti.u16(a.shape[1]) - 5\n",
        "    t = ti.f64(1.)\n",
        "    ti.loop_config(serialize=True) \n",
        "    for i in ti.ndrange(y):\n",
        "      for j in ti.ndrange(x):\n",
        "        c = 1.5 * a[i+1, j+2] - a[i+5, j+3] * a[i, j] + 0.2 * a[i+4, j]\n",
        "        t = 0.2 * t + 0.8 * c\n",
        "\n",
        "      x = x - 4\n",
        "    return t\n",
        "\n",
        "\n",
        "strange_conv_ti(a)"
      ]
    },
    {
      "cell_type": "code",
      "source": [
        "%timeit strange_conv(a)\n",
        "%timeit strange_conv_c(a)\n",
        "%timeit strange_conv_ti(a)"
      ],
      "metadata": {
        "colab": {
          "base_uri": "https://localhost:8080/"
        },
        "id": "zEknzZFE9wvh",
        "outputId": "0aa8e6fd-eaab-45f0-d638-5ea279370282"
      },
      "execution_count": 9,
      "outputs": [
        {
          "output_type": "stream",
          "name": "stdout",
          "text": [
            "17.5 s ± 148 ms per loop (mean ± std. dev. of 7 runs, 1 loop each)\n",
            "40.8 ms ± 502 µs per loop (mean ± std. dev. of 7 runs, 10 loops each)\n",
            "41.8 ms ± 692 µs per loop (mean ± std. dev. of 7 runs, 10 loops each)\n"
          ]
        }
      ]
    }
  ],
  "metadata": {
    "kernelspec": {
      "display_name": "Python 3",
      "language": "python",
      "name": "python3"
    },
    "language_info": {
      "codemirror_mode": {
        "name": "ipython",
        "version": 3
      },
      "file_extension": ".py",
      "mimetype": "text/x-python",
      "name": "python",
      "nbconvert_exporter": "python",
      "pygments_lexer": "ipython3",
      "version": "3.10.9"
    },
    "orig_nbformat": 4,
    "vscode": {
      "interpreter": {
        "hash": "b7fc66f42296809716c2203bd4109623f3147b4b81c54502d0150da1d1c3060c"
      }
    },
    "colab": {
      "provenance": [],
      "toc_visible": true
    }
  },
  "nbformat": 4,
  "nbformat_minor": 0
}